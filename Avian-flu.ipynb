{
 "cells": [
  {
   "cell_type": "code",
   "execution_count": 144,
   "id": "e106bb2e",
   "metadata": {},
   "outputs": [],
   "source": [
    "# import the libraries\n",
    "\n",
    "import pandas as pd\n",
    "import matplotlib.pyplot as plt\n",
    "import seaborn as sns\n",
    "import numpy as np\n",
    "from scipy.stats import norm\n",
    "from sklearn.preprocessing import StandardScaler\n",
    "from scipy import stats\n",
    "import warnings\n",
    "import plotly.express as px\n",
    "import plotly.graph_objects as go\n",
    "import pycountry\n",
    "import geopandas\n",
    "warnings.filterwarnings('ignore')\n",
    "%matplotlib inline"
   ]
  },
  {
   "cell_type": "markdown",
   "id": "65d3672d",
   "metadata": {},
   "source": [
    "## Data until 2017"
   ]
  },
  {
   "cell_type": "code",
   "execution_count": 145,
   "id": "f6e47f26",
   "metadata": {},
   "outputs": [
    {
     "data": {
      "text/html": [
       "<div>\n",
       "<style scoped>\n",
       "    .dataframe tbody tr th:only-of-type {\n",
       "        vertical-align: middle;\n",
       "    }\n",
       "\n",
       "    .dataframe tbody tr th {\n",
       "        vertical-align: top;\n",
       "    }\n",
       "\n",
       "    .dataframe thead th {\n",
       "        text-align: right;\n",
       "    }\n",
       "</style>\n",
       "<table border=\"1\" class=\"dataframe\">\n",
       "  <thead>\n",
       "    <tr style=\"text-align: right;\">\n",
       "      <th></th>\n",
       "      <th>Id</th>\n",
       "      <th>source</th>\n",
       "      <th>latitude</th>\n",
       "      <th>longitude</th>\n",
       "      <th>region</th>\n",
       "      <th>country</th>\n",
       "      <th>admin1</th>\n",
       "      <th>localityName</th>\n",
       "      <th>localityQuality</th>\n",
       "      <th>observationDate</th>\n",
       "      <th>...</th>\n",
       "      <th>speciesDescription</th>\n",
       "      <th>sumAtRisk</th>\n",
       "      <th>sumCases</th>\n",
       "      <th>sumDeaths</th>\n",
       "      <th>sumDestroyed</th>\n",
       "      <th>sumSlaughtered</th>\n",
       "      <th>humansGenderDesc</th>\n",
       "      <th>humansAge</th>\n",
       "      <th>humansAffected</th>\n",
       "      <th>humansDeaths</th>\n",
       "    </tr>\n",
       "  </thead>\n",
       "  <tbody>\n",
       "    <tr>\n",
       "      <th>0</th>\n",
       "      <td>230399</td>\n",
       "      <td>OIE</td>\n",
       "      <td>-27.900000</td>\n",
       "      <td>30.800000</td>\n",
       "      <td>Africa</td>\n",
       "      <td>South Africa</td>\n",
       "      <td>KwaZulu-Natal</td>\n",
       "      <td>HPAI_H5N8_2017_019</td>\n",
       "      <td>Exact</td>\n",
       "      <td>17/08/2017</td>\n",
       "      <td>...</td>\n",
       "      <td>domestic, unspecified bird</td>\n",
       "      <td>248000.0</td>\n",
       "      <td>12.0</td>\n",
       "      <td>12.0</td>\n",
       "      <td>50000.0</td>\n",
       "      <td>0.0</td>\n",
       "      <td>NaN</td>\n",
       "      <td>0.0</td>\n",
       "      <td>NaN</td>\n",
       "      <td>NaN</td>\n",
       "    </tr>\n",
       "    <tr>\n",
       "      <th>1</th>\n",
       "      <td>230381</td>\n",
       "      <td>OIE</td>\n",
       "      <td>54.837037</td>\n",
       "      <td>73.354155</td>\n",
       "      <td>Europe</td>\n",
       "      <td>Russian Federation</td>\n",
       "      <td>Omskaya Oblast</td>\n",
       "      <td>Novaya Stanica</td>\n",
       "      <td>Exact</td>\n",
       "      <td>16/08/2017</td>\n",
       "      <td>...</td>\n",
       "      <td>domestic, swine</td>\n",
       "      <td>122.0</td>\n",
       "      <td>6.0</td>\n",
       "      <td>1.0</td>\n",
       "      <td>0.0</td>\n",
       "      <td>0.0</td>\n",
       "      <td>NaN</td>\n",
       "      <td>NaN</td>\n",
       "      <td>NaN</td>\n",
       "      <td>NaN</td>\n",
       "    </tr>\n",
       "    <tr>\n",
       "      <th>2</th>\n",
       "      <td>230333</td>\n",
       "      <td>OIE</td>\n",
       "      <td>-21.077740</td>\n",
       "      <td>30.211620</td>\n",
       "      <td>Africa</td>\n",
       "      <td>Zimbabwe</td>\n",
       "      <td>Masvingo</td>\n",
       "      <td>Mwambe</td>\n",
       "      <td>Exact</td>\n",
       "      <td>16/08/2017</td>\n",
       "      <td>...</td>\n",
       "      <td>domestic, cattle</td>\n",
       "      <td>1283.0</td>\n",
       "      <td>112.0</td>\n",
       "      <td>0.0</td>\n",
       "      <td>NaN</td>\n",
       "      <td>7.0</td>\n",
       "      <td>NaN</td>\n",
       "      <td>NaN</td>\n",
       "      <td>NaN</td>\n",
       "      <td>NaN</td>\n",
       "    </tr>\n",
       "    <tr>\n",
       "      <th>3</th>\n",
       "      <td>230396</td>\n",
       "      <td>OIE</td>\n",
       "      <td>-26.000000</td>\n",
       "      <td>28.300000</td>\n",
       "      <td>Africa</td>\n",
       "      <td>South Africa</td>\n",
       "      <td>Gauteng</td>\n",
       "      <td>HPAI_H5N8_2017_020</td>\n",
       "      <td>Exact</td>\n",
       "      <td>15/08/2017</td>\n",
       "      <td>...</td>\n",
       "      <td>wild, unspecified bird</td>\n",
       "      <td>NaN</td>\n",
       "      <td>1.0</td>\n",
       "      <td>1.0</td>\n",
       "      <td>0.0</td>\n",
       "      <td>0.0</td>\n",
       "      <td>NaN</td>\n",
       "      <td>0.0</td>\n",
       "      <td>NaN</td>\n",
       "      <td>NaN</td>\n",
       "    </tr>\n",
       "    <tr>\n",
       "      <th>4</th>\n",
       "      <td>230371</td>\n",
       "      <td>OIE</td>\n",
       "      <td>49.237900</td>\n",
       "      <td>17.700200</td>\n",
       "      <td>Europe</td>\n",
       "      <td>Czech Republic</td>\n",
       "      <td>Jihomoravsky</td>\n",
       "      <td>Hvozdná</td>\n",
       "      <td>Exact</td>\n",
       "      <td>15/08/2017</td>\n",
       "      <td>...</td>\n",
       "      <td>wild, wild boar</td>\n",
       "      <td>NaN</td>\n",
       "      <td>1.0</td>\n",
       "      <td>1.0</td>\n",
       "      <td>NaN</td>\n",
       "      <td>NaN</td>\n",
       "      <td>NaN</td>\n",
       "      <td>NaN</td>\n",
       "      <td>NaN</td>\n",
       "      <td>NaN</td>\n",
       "    </tr>\n",
       "    <tr>\n",
       "      <th>...</th>\n",
       "      <td>...</td>\n",
       "      <td>...</td>\n",
       "      <td>...</td>\n",
       "      <td>...</td>\n",
       "      <td>...</td>\n",
       "      <td>...</td>\n",
       "      <td>...</td>\n",
       "      <td>...</td>\n",
       "      <td>...</td>\n",
       "      <td>...</td>\n",
       "      <td>...</td>\n",
       "      <td>...</td>\n",
       "      <td>...</td>\n",
       "      <td>...</td>\n",
       "      <td>...</td>\n",
       "      <td>...</td>\n",
       "      <td>...</td>\n",
       "      <td>...</td>\n",
       "      <td>...</td>\n",
       "      <td>...</td>\n",
       "      <td>...</td>\n",
       "    </tr>\n",
       "    <tr>\n",
       "      <th>17003</th>\n",
       "      <td>207420</td>\n",
       "      <td>FAO-Report</td>\n",
       "      <td>7.289176</td>\n",
       "      <td>8.857676</td>\n",
       "      <td>Africa</td>\n",
       "      <td>Nigeria</td>\n",
       "      <td>Benue</td>\n",
       "      <td>Benue</td>\n",
       "      <td>Centroid Admin1</td>\n",
       "      <td>01/06/1998</td>\n",
       "      <td>...</td>\n",
       "      <td>domestic, swine</td>\n",
       "      <td>NaN</td>\n",
       "      <td>NaN</td>\n",
       "      <td>NaN</td>\n",
       "      <td>NaN</td>\n",
       "      <td>NaN</td>\n",
       "      <td>NaN</td>\n",
       "      <td>NaN</td>\n",
       "      <td>NaN</td>\n",
       "      <td>NaN</td>\n",
       "    </tr>\n",
       "    <tr>\n",
       "      <th>17004</th>\n",
       "      <td>207421</td>\n",
       "      <td>FAO officer</td>\n",
       "      <td>15.112823</td>\n",
       "      <td>-23.645005</td>\n",
       "      <td>Africa</td>\n",
       "      <td>Cape Verde</td>\n",
       "      <td>Santiago</td>\n",
       "      <td>Santiago</td>\n",
       "      <td>Centroid Admin1</td>\n",
       "      <td>01/01/1998</td>\n",
       "      <td>...</td>\n",
       "      <td>domestic, swine</td>\n",
       "      <td>NaN</td>\n",
       "      <td>NaN</td>\n",
       "      <td>NaN</td>\n",
       "      <td>NaN</td>\n",
       "      <td>NaN</td>\n",
       "      <td>NaN</td>\n",
       "      <td>NaN</td>\n",
       "      <td>NaN</td>\n",
       "      <td>NaN</td>\n",
       "    </tr>\n",
       "    <tr>\n",
       "      <th>17005</th>\n",
       "      <td>207417</td>\n",
       "      <td>FAO-Report</td>\n",
       "      <td>6.658696</td>\n",
       "      <td>2.489576</td>\n",
       "      <td>Africa</td>\n",
       "      <td>Benin</td>\n",
       "      <td>Oueme</td>\n",
       "      <td>Oueme</td>\n",
       "      <td>Centroid Admin1</td>\n",
       "      <td>01/12/1997</td>\n",
       "      <td>...</td>\n",
       "      <td>domestic, swine</td>\n",
       "      <td>NaN</td>\n",
       "      <td>NaN</td>\n",
       "      <td>NaN</td>\n",
       "      <td>NaN</td>\n",
       "      <td>NaN</td>\n",
       "      <td>NaN</td>\n",
       "      <td>NaN</td>\n",
       "      <td>NaN</td>\n",
       "      <td>NaN</td>\n",
       "    </tr>\n",
       "    <tr>\n",
       "      <th>17006</th>\n",
       "      <td>207418</td>\n",
       "      <td>FAO-Report</td>\n",
       "      <td>7.143645</td>\n",
       "      <td>3.278189</td>\n",
       "      <td>Africa</td>\n",
       "      <td>Nigeria</td>\n",
       "      <td>Ogun</td>\n",
       "      <td>Ogun</td>\n",
       "      <td>Centroid Admin1</td>\n",
       "      <td>01/09/1997</td>\n",
       "      <td>...</td>\n",
       "      <td>domestic, swine</td>\n",
       "      <td>NaN</td>\n",
       "      <td>NaN</td>\n",
       "      <td>NaN</td>\n",
       "      <td>NaN</td>\n",
       "      <td>NaN</td>\n",
       "      <td>NaN</td>\n",
       "      <td>NaN</td>\n",
       "      <td>NaN</td>\n",
       "      <td>NaN</td>\n",
       "    </tr>\n",
       "    <tr>\n",
       "      <th>17007</th>\n",
       "      <td>207416</td>\n",
       "      <td>FAO-Report</td>\n",
       "      <td>5.413067</td>\n",
       "      <td>-4.068581</td>\n",
       "      <td>Africa</td>\n",
       "      <td>Côte d'Ivoire</td>\n",
       "      <td>District autonome de Abidjan</td>\n",
       "      <td>District autonome de Abidjan</td>\n",
       "      <td>Centroid Admin1</td>\n",
       "      <td>16/04/1996</td>\n",
       "      <td>...</td>\n",
       "      <td>domestic, swine</td>\n",
       "      <td>NaN</td>\n",
       "      <td>NaN</td>\n",
       "      <td>NaN</td>\n",
       "      <td>NaN</td>\n",
       "      <td>NaN</td>\n",
       "      <td>NaN</td>\n",
       "      <td>NaN</td>\n",
       "      <td>NaN</td>\n",
       "      <td>NaN</td>\n",
       "    </tr>\n",
       "  </tbody>\n",
       "</table>\n",
       "<p>17008 rows × 24 columns</p>\n",
       "</div>"
      ],
      "text/plain": [
       "           Id       source   latitude  longitude  region             country  \\\n",
       "0      230399          OIE -27.900000  30.800000  Africa        South Africa   \n",
       "1      230381          OIE  54.837037  73.354155  Europe  Russian Federation   \n",
       "2      230333          OIE -21.077740  30.211620  Africa            Zimbabwe   \n",
       "3      230396          OIE -26.000000  28.300000  Africa        South Africa   \n",
       "4      230371          OIE  49.237900  17.700200  Europe      Czech Republic   \n",
       "...       ...          ...        ...        ...     ...                 ...   \n",
       "17003  207420   FAO-Report   7.289176   8.857676  Africa             Nigeria   \n",
       "17004  207421  FAO officer  15.112823 -23.645005  Africa          Cape Verde   \n",
       "17005  207417   FAO-Report   6.658696   2.489576  Africa               Benin   \n",
       "17006  207418   FAO-Report   7.143645   3.278189  Africa             Nigeria   \n",
       "17007  207416   FAO-Report   5.413067  -4.068581  Africa       Côte d'Ivoire   \n",
       "\n",
       "                             admin1                  localityName  \\\n",
       "0                     KwaZulu-Natal            HPAI_H5N8_2017_019   \n",
       "1                    Omskaya Oblast                Novaya Stanica   \n",
       "2                          Masvingo                        Mwambe   \n",
       "3                           Gauteng            HPAI_H5N8_2017_020   \n",
       "4                      Jihomoravsky                       Hvozdná   \n",
       "...                             ...                           ...   \n",
       "17003                         Benue                         Benue   \n",
       "17004                      Santiago                      Santiago   \n",
       "17005                         Oueme                         Oueme   \n",
       "17006                          Ogun                          Ogun   \n",
       "17007  District autonome de Abidjan  District autonome de Abidjan   \n",
       "\n",
       "       localityQuality observationDate  ...          speciesDescription  \\\n",
       "0                Exact      17/08/2017  ...  domestic, unspecified bird   \n",
       "1                Exact      16/08/2017  ...             domestic, swine   \n",
       "2                Exact      16/08/2017  ...            domestic, cattle   \n",
       "3                Exact      15/08/2017  ...      wild, unspecified bird   \n",
       "4                Exact      15/08/2017  ...             wild, wild boar   \n",
       "...                ...             ...  ...                         ...   \n",
       "17003  Centroid Admin1      01/06/1998  ...             domestic, swine   \n",
       "17004  Centroid Admin1      01/01/1998  ...             domestic, swine   \n",
       "17005  Centroid Admin1      01/12/1997  ...             domestic, swine   \n",
       "17006  Centroid Admin1      01/09/1997  ...             domestic, swine   \n",
       "17007  Centroid Admin1      16/04/1996  ...             domestic, swine   \n",
       "\n",
       "      sumAtRisk sumCases sumDeaths sumDestroyed  sumSlaughtered  \\\n",
       "0      248000.0     12.0      12.0      50000.0             0.0   \n",
       "1         122.0      6.0       1.0          0.0             0.0   \n",
       "2        1283.0    112.0       0.0          NaN             7.0   \n",
       "3           NaN      1.0       1.0          0.0             0.0   \n",
       "4           NaN      1.0       1.0          NaN             NaN   \n",
       "...         ...      ...       ...          ...             ...   \n",
       "17003       NaN      NaN       NaN          NaN             NaN   \n",
       "17004       NaN      NaN       NaN          NaN             NaN   \n",
       "17005       NaN      NaN       NaN          NaN             NaN   \n",
       "17006       NaN      NaN       NaN          NaN             NaN   \n",
       "17007       NaN      NaN       NaN          NaN             NaN   \n",
       "\n",
       "       humansGenderDesc  humansAge  humansAffected  humansDeaths  \n",
       "0                   NaN        0.0             NaN           NaN  \n",
       "1                   NaN        NaN             NaN           NaN  \n",
       "2                   NaN        NaN             NaN           NaN  \n",
       "3                   NaN        0.0             NaN           NaN  \n",
       "4                   NaN        NaN             NaN           NaN  \n",
       "...                 ...        ...             ...           ...  \n",
       "17003               NaN        NaN             NaN           NaN  \n",
       "17004               NaN        NaN             NaN           NaN  \n",
       "17005               NaN        NaN             NaN           NaN  \n",
       "17006               NaN        NaN             NaN           NaN  \n",
       "17007               NaN        NaN             NaN           NaN  \n",
       "\n",
       "[17008 rows x 24 columns]"
      ]
     },
     "execution_count": 145,
     "metadata": {},
     "output_type": "execute_result"
    }
   ],
   "source": [
    "# Import the data and visualize the first rows\n",
    "df = pd.read_csv('Outbreak_240817.csv')\n",
    "df"
   ]
  },
  {
   "cell_type": "code",
   "execution_count": 146,
   "id": "4b9b10c6",
   "metadata": {},
   "outputs": [
    {
     "data": {
      "text/plain": [
       "Index(['Id', 'source', 'latitude', 'longitude', 'region', 'country', 'admin1',\n",
       "       'localityName', 'localityQuality', 'observationDate', 'reportingDate',\n",
       "       'status', 'disease', 'serotypes', 'speciesDescription', 'sumAtRisk',\n",
       "       'sumCases', 'sumDeaths', 'sumDestroyed', 'sumSlaughtered',\n",
       "       'humansGenderDesc', 'humansAge', 'humansAffected', 'humansDeaths'],\n",
       "      dtype='object')"
      ]
     },
     "execution_count": 146,
     "metadata": {},
     "output_type": "execute_result"
    }
   ],
   "source": [
    "# Visualize columns\n",
    "df.columns"
   ]
  },
  {
   "cell_type": "code",
   "execution_count": 147,
   "id": "aab03f36",
   "metadata": {},
   "outputs": [
    {
     "data": {
      "text/plain": [
       "Index(['latitude', 'longitude', 'region', 'country', 'localityName', 'status',\n",
       "       'disease', 'sumAtRisk', 'sumCases', 'sumDeaths', 'sumDestroyed',\n",
       "       'sumSlaughtered', 'humansAffected', 'humansDeaths'],\n",
       "      dtype='object')"
      ]
     },
     "execution_count": 147,
     "metadata": {},
     "output_type": "execute_result"
    }
   ],
   "source": [
    "# Drop columns that are less important\n",
    "df.drop(['Id', 'source','observationDate', 'speciesDescription', 'serotypes', 'admin1','reportingDate', 'localityQuality','humansGenderDesc', 'humansAge'], axis=1, inplace=True)\n",
    "df.columns"
   ]
  },
  {
   "cell_type": "code",
   "execution_count": 148,
   "id": "4f5d09c0",
   "metadata": {},
   "outputs": [
    {
     "data": {
      "text/plain": [
       "latitude              0\n",
       "longitude             0\n",
       "region                0\n",
       "country               0\n",
       "localityName          0\n",
       "status                0\n",
       "disease               0\n",
       "sumAtRisk          7251\n",
       "sumCases           2473\n",
       "sumDeaths          2840\n",
       "sumDestroyed       4003\n",
       "sumSlaughtered     4773\n",
       "humansAffected    15591\n",
       "humansDeaths      16557\n",
       "dtype: int64"
      ]
     },
     "execution_count": 148,
     "metadata": {},
     "output_type": "execute_result"
    }
   ],
   "source": [
    "# Check if there are missing values\n",
    "df.isna().sum()"
   ]
  },
  {
   "cell_type": "code",
   "execution_count": 149,
   "id": "f0fe4667",
   "metadata": {},
   "outputs": [
    {
     "data": {
      "text/plain": [
       "latitude          0\n",
       "longitude         0\n",
       "region            0\n",
       "country           0\n",
       "localityName      0\n",
       "status            0\n",
       "disease           0\n",
       "sumAtRisk         0\n",
       "sumCases          0\n",
       "sumDeaths         0\n",
       "sumDestroyed      0\n",
       "sumSlaughtered    0\n",
       "humansAffected    0\n",
       "humansDeaths      0\n",
       "dtype: int64"
      ]
     },
     "execution_count": 149,
     "metadata": {},
     "output_type": "execute_result"
    }
   ],
   "source": [
    "# Fill in the gaps with '0' and check for missing values\n",
    "df = df.fillna(0)\n",
    "df.isna().sum()"
   ]
  },
  {
   "cell_type": "code",
   "execution_count": 150,
   "id": "d29115be",
   "metadata": {},
   "outputs": [],
   "source": [
    "# create a bar chart with the countries with the most events\n",
    "def most_slaughters(df):\n",
    "    \n",
    "    # definir países como índice\n",
    "    df_most = df.set_index(\"country\")\n",
    "    \n",
    "    # conterá os gráficos a serem exibidos\n",
    "    item_list = []\n",
    "    \n",
    "    # inverter a lista para ter 2017 primeiro\n",
    "    for col in df_most.columns.tolist()[::-1]:\n",
    "        # ordenar df\n",
    "        df_int = df_most.sort_values(col, ascending=False).head(10)\n",
    "        # criar o gráfico\n",
    "        item = dict(args=[{\"x\" : [df_int.index], \"y\" : [df_int[col]] }, # set x and y axis\n",
    "                         {\"title\" : \"Countries with the most \" + col} # set title\n",
    "                         ],\n",
    "                         label=col, method=\"update\") #label = name of the button\n",
    "                                                     #method=\"update\" will modify data and layout\n",
    "        item_list.append(item)\n",
    "    \n",
    "    # crie o primeiro gráfico para que corresponda ao primeiro valor do nosso menu\n",
    "    firstviz = df_most.sort_values(df_most.columns.tolist()[::-1][0], ascending=False).head(10)\n",
    "    \n",
    "    fig = px.bar(firstviz, x=firstviz.index, y=firstviz.columns.tolist()[::-1][0],\n",
    "                 color_discrete_sequence=[\"#020202\"],\n",
    "                 text_auto=True,\n",
    "                 title=\"Countries with the most \" + df_most.columns.tolist()[::-1][0])\n",
    "    # título centralizado\n",
    "    fig.update_layout(title_x=0.5)\n",
    "\n",
    "    # criar menu\n",
    "    fig.update_layout(\n",
    "            updatemenus=[\n",
    "                # lista de itens = lista dos gráficos !\n",
    "                dict(buttons=list(item_list),  \n",
    "\n",
    "                 # lugar do menu suspenso\n",
    "                direction=\"down\",showactive=True,x=0.005,\n",
    "                xanchor=\"left\",y=1.4,yanchor=\"top\") ] )\n",
    "    \n",
    "    return fig.show()"
   ]
  },
  {
   "cell_type": "code",
   "execution_count": 152,
   "id": "c705dad2",
   "metadata": {
    "scrolled": true
   },
   "outputs": [
    {
     "data": {
      "application/vnd.plotly.v1+json": {
       "config": {
        "plotlyServerURL": "https://plot.ly"
       },
       "data": [
        {
         "alignmentgroup": "True",
         "hovertemplate": "country=%{x}<br>humansDeaths=%{y}<extra></extra>",
         "legendgroup": "",
         "marker": {
          "color": "#020202",
          "pattern": {
           "shape": ""
          }
         },
         "name": "",
         "offsetgroup": "",
         "orientation": "v",
         "showlegend": false,
         "textposition": "auto",
         "texttemplate": "%{y}",
         "type": "bar",
         "x": [
          "Malaysia",
          "Saudi Arabia",
          "China",
          "China",
          "Niger",
          "Saudi Arabia",
          "Saudi Arabia",
          "China",
          "China",
          "Taiwan (Province of China)"
         ],
         "xaxis": "x",
         "y": [
          2,
          1,
          1,
          1,
          1,
          1,
          1,
          1,
          1,
          1
         ],
         "yaxis": "y"
        }
       ],
       "layout": {
        "barmode": "relative",
        "legend": {
         "tracegroupgap": 0
        },
        "template": {
         "data": {
          "bar": [
           {
            "error_x": {
             "color": "#2a3f5f"
            },
            "error_y": {
             "color": "#2a3f5f"
            },
            "marker": {
             "line": {
              "color": "#E5ECF6",
              "width": 0.5
             },
             "pattern": {
              "fillmode": "overlay",
              "size": 10,
              "solidity": 0.2
             }
            },
            "type": "bar"
           }
          ],
          "barpolar": [
           {
            "marker": {
             "line": {
              "color": "#E5ECF6",
              "width": 0.5
             },
             "pattern": {
              "fillmode": "overlay",
              "size": 10,
              "solidity": 0.2
             }
            },
            "type": "barpolar"
           }
          ],
          "carpet": [
           {
            "aaxis": {
             "endlinecolor": "#2a3f5f",
             "gridcolor": "white",
             "linecolor": "white",
             "minorgridcolor": "white",
             "startlinecolor": "#2a3f5f"
            },
            "baxis": {
             "endlinecolor": "#2a3f5f",
             "gridcolor": "white",
             "linecolor": "white",
             "minorgridcolor": "white",
             "startlinecolor": "#2a3f5f"
            },
            "type": "carpet"
           }
          ],
          "choropleth": [
           {
            "colorbar": {
             "outlinewidth": 0,
             "ticks": ""
            },
            "type": "choropleth"
           }
          ],
          "contour": [
           {
            "colorbar": {
             "outlinewidth": 0,
             "ticks": ""
            },
            "colorscale": [
             [
              0,
              "#0d0887"
             ],
             [
              0.1111111111111111,
              "#46039f"
             ],
             [
              0.2222222222222222,
              "#7201a8"
             ],
             [
              0.3333333333333333,
              "#9c179e"
             ],
             [
              0.4444444444444444,
              "#bd3786"
             ],
             [
              0.5555555555555556,
              "#d8576b"
             ],
             [
              0.6666666666666666,
              "#ed7953"
             ],
             [
              0.7777777777777778,
              "#fb9f3a"
             ],
             [
              0.8888888888888888,
              "#fdca26"
             ],
             [
              1,
              "#f0f921"
             ]
            ],
            "type": "contour"
           }
          ],
          "contourcarpet": [
           {
            "colorbar": {
             "outlinewidth": 0,
             "ticks": ""
            },
            "type": "contourcarpet"
           }
          ],
          "heatmap": [
           {
            "colorbar": {
             "outlinewidth": 0,
             "ticks": ""
            },
            "colorscale": [
             [
              0,
              "#0d0887"
             ],
             [
              0.1111111111111111,
              "#46039f"
             ],
             [
              0.2222222222222222,
              "#7201a8"
             ],
             [
              0.3333333333333333,
              "#9c179e"
             ],
             [
              0.4444444444444444,
              "#bd3786"
             ],
             [
              0.5555555555555556,
              "#d8576b"
             ],
             [
              0.6666666666666666,
              "#ed7953"
             ],
             [
              0.7777777777777778,
              "#fb9f3a"
             ],
             [
              0.8888888888888888,
              "#fdca26"
             ],
             [
              1,
              "#f0f921"
             ]
            ],
            "type": "heatmap"
           }
          ],
          "heatmapgl": [
           {
            "colorbar": {
             "outlinewidth": 0,
             "ticks": ""
            },
            "colorscale": [
             [
              0,
              "#0d0887"
             ],
             [
              0.1111111111111111,
              "#46039f"
             ],
             [
              0.2222222222222222,
              "#7201a8"
             ],
             [
              0.3333333333333333,
              "#9c179e"
             ],
             [
              0.4444444444444444,
              "#bd3786"
             ],
             [
              0.5555555555555556,
              "#d8576b"
             ],
             [
              0.6666666666666666,
              "#ed7953"
             ],
             [
              0.7777777777777778,
              "#fb9f3a"
             ],
             [
              0.8888888888888888,
              "#fdca26"
             ],
             [
              1,
              "#f0f921"
             ]
            ],
            "type": "heatmapgl"
           }
          ],
          "histogram": [
           {
            "marker": {
             "pattern": {
              "fillmode": "overlay",
              "size": 10,
              "solidity": 0.2
             }
            },
            "type": "histogram"
           }
          ],
          "histogram2d": [
           {
            "colorbar": {
             "outlinewidth": 0,
             "ticks": ""
            },
            "colorscale": [
             [
              0,
              "#0d0887"
             ],
             [
              0.1111111111111111,
              "#46039f"
             ],
             [
              0.2222222222222222,
              "#7201a8"
             ],
             [
              0.3333333333333333,
              "#9c179e"
             ],
             [
              0.4444444444444444,
              "#bd3786"
             ],
             [
              0.5555555555555556,
              "#d8576b"
             ],
             [
              0.6666666666666666,
              "#ed7953"
             ],
             [
              0.7777777777777778,
              "#fb9f3a"
             ],
             [
              0.8888888888888888,
              "#fdca26"
             ],
             [
              1,
              "#f0f921"
             ]
            ],
            "type": "histogram2d"
           }
          ],
          "histogram2dcontour": [
           {
            "colorbar": {
             "outlinewidth": 0,
             "ticks": ""
            },
            "colorscale": [
             [
              0,
              "#0d0887"
             ],
             [
              0.1111111111111111,
              "#46039f"
             ],
             [
              0.2222222222222222,
              "#7201a8"
             ],
             [
              0.3333333333333333,
              "#9c179e"
             ],
             [
              0.4444444444444444,
              "#bd3786"
             ],
             [
              0.5555555555555556,
              "#d8576b"
             ],
             [
              0.6666666666666666,
              "#ed7953"
             ],
             [
              0.7777777777777778,
              "#fb9f3a"
             ],
             [
              0.8888888888888888,
              "#fdca26"
             ],
             [
              1,
              "#f0f921"
             ]
            ],
            "type": "histogram2dcontour"
           }
          ],
          "mesh3d": [
           {
            "colorbar": {
             "outlinewidth": 0,
             "ticks": ""
            },
            "type": "mesh3d"
           }
          ],
          "parcoords": [
           {
            "line": {
             "colorbar": {
              "outlinewidth": 0,
              "ticks": ""
             }
            },
            "type": "parcoords"
           }
          ],
          "pie": [
           {
            "automargin": true,
            "type": "pie"
           }
          ],
          "scatter": [
           {
            "fillpattern": {
             "fillmode": "overlay",
             "size": 10,
             "solidity": 0.2
            },
            "type": "scatter"
           }
          ],
          "scatter3d": [
           {
            "line": {
             "colorbar": {
              "outlinewidth": 0,
              "ticks": ""
             }
            },
            "marker": {
             "colorbar": {
              "outlinewidth": 0,
              "ticks": ""
             }
            },
            "type": "scatter3d"
           }
          ],
          "scattercarpet": [
           {
            "marker": {
             "colorbar": {
              "outlinewidth": 0,
              "ticks": ""
             }
            },
            "type": "scattercarpet"
           }
          ],
          "scattergeo": [
           {
            "marker": {
             "colorbar": {
              "outlinewidth": 0,
              "ticks": ""
             }
            },
            "type": "scattergeo"
           }
          ],
          "scattergl": [
           {
            "marker": {
             "colorbar": {
              "outlinewidth": 0,
              "ticks": ""
             }
            },
            "type": "scattergl"
           }
          ],
          "scattermapbox": [
           {
            "marker": {
             "colorbar": {
              "outlinewidth": 0,
              "ticks": ""
             }
            },
            "type": "scattermapbox"
           }
          ],
          "scatterpolar": [
           {
            "marker": {
             "colorbar": {
              "outlinewidth": 0,
              "ticks": ""
             }
            },
            "type": "scatterpolar"
           }
          ],
          "scatterpolargl": [
           {
            "marker": {
             "colorbar": {
              "outlinewidth": 0,
              "ticks": ""
             }
            },
            "type": "scatterpolargl"
           }
          ],
          "scatterternary": [
           {
            "marker": {
             "colorbar": {
              "outlinewidth": 0,
              "ticks": ""
             }
            },
            "type": "scatterternary"
           }
          ],
          "surface": [
           {
            "colorbar": {
             "outlinewidth": 0,
             "ticks": ""
            },
            "colorscale": [
             [
              0,
              "#0d0887"
             ],
             [
              0.1111111111111111,
              "#46039f"
             ],
             [
              0.2222222222222222,
              "#7201a8"
             ],
             [
              0.3333333333333333,
              "#9c179e"
             ],
             [
              0.4444444444444444,
              "#bd3786"
             ],
             [
              0.5555555555555556,
              "#d8576b"
             ],
             [
              0.6666666666666666,
              "#ed7953"
             ],
             [
              0.7777777777777778,
              "#fb9f3a"
             ],
             [
              0.8888888888888888,
              "#fdca26"
             ],
             [
              1,
              "#f0f921"
             ]
            ],
            "type": "surface"
           }
          ],
          "table": [
           {
            "cells": {
             "fill": {
              "color": "#EBF0F8"
             },
             "line": {
              "color": "white"
             }
            },
            "header": {
             "fill": {
              "color": "#C8D4E3"
             },
             "line": {
              "color": "white"
             }
            },
            "type": "table"
           }
          ]
         },
         "layout": {
          "annotationdefaults": {
           "arrowcolor": "#2a3f5f",
           "arrowhead": 0,
           "arrowwidth": 1
          },
          "autotypenumbers": "strict",
          "coloraxis": {
           "colorbar": {
            "outlinewidth": 0,
            "ticks": ""
           }
          },
          "colorscale": {
           "diverging": [
            [
             0,
             "#8e0152"
            ],
            [
             0.1,
             "#c51b7d"
            ],
            [
             0.2,
             "#de77ae"
            ],
            [
             0.3,
             "#f1b6da"
            ],
            [
             0.4,
             "#fde0ef"
            ],
            [
             0.5,
             "#f7f7f7"
            ],
            [
             0.6,
             "#e6f5d0"
            ],
            [
             0.7,
             "#b8e186"
            ],
            [
             0.8,
             "#7fbc41"
            ],
            [
             0.9,
             "#4d9221"
            ],
            [
             1,
             "#276419"
            ]
           ],
           "sequential": [
            [
             0,
             "#0d0887"
            ],
            [
             0.1111111111111111,
             "#46039f"
            ],
            [
             0.2222222222222222,
             "#7201a8"
            ],
            [
             0.3333333333333333,
             "#9c179e"
            ],
            [
             0.4444444444444444,
             "#bd3786"
            ],
            [
             0.5555555555555556,
             "#d8576b"
            ],
            [
             0.6666666666666666,
             "#ed7953"
            ],
            [
             0.7777777777777778,
             "#fb9f3a"
            ],
            [
             0.8888888888888888,
             "#fdca26"
            ],
            [
             1,
             "#f0f921"
            ]
           ],
           "sequentialminus": [
            [
             0,
             "#0d0887"
            ],
            [
             0.1111111111111111,
             "#46039f"
            ],
            [
             0.2222222222222222,
             "#7201a8"
            ],
            [
             0.3333333333333333,
             "#9c179e"
            ],
            [
             0.4444444444444444,
             "#bd3786"
            ],
            [
             0.5555555555555556,
             "#d8576b"
            ],
            [
             0.6666666666666666,
             "#ed7953"
            ],
            [
             0.7777777777777778,
             "#fb9f3a"
            ],
            [
             0.8888888888888888,
             "#fdca26"
            ],
            [
             1,
             "#f0f921"
            ]
           ]
          },
          "colorway": [
           "#636efa",
           "#EF553B",
           "#00cc96",
           "#ab63fa",
           "#FFA15A",
           "#19d3f3",
           "#FF6692",
           "#B6E880",
           "#FF97FF",
           "#FECB52"
          ],
          "font": {
           "color": "#2a3f5f"
          },
          "geo": {
           "bgcolor": "white",
           "lakecolor": "white",
           "landcolor": "#E5ECF6",
           "showlakes": true,
           "showland": true,
           "subunitcolor": "white"
          },
          "hoverlabel": {
           "align": "left"
          },
          "hovermode": "closest",
          "mapbox": {
           "style": "light"
          },
          "paper_bgcolor": "white",
          "plot_bgcolor": "#E5ECF6",
          "polar": {
           "angularaxis": {
            "gridcolor": "white",
            "linecolor": "white",
            "ticks": ""
           },
           "bgcolor": "#E5ECF6",
           "radialaxis": {
            "gridcolor": "white",
            "linecolor": "white",
            "ticks": ""
           }
          },
          "scene": {
           "xaxis": {
            "backgroundcolor": "#E5ECF6",
            "gridcolor": "white",
            "gridwidth": 2,
            "linecolor": "white",
            "showbackground": true,
            "ticks": "",
            "zerolinecolor": "white"
           },
           "yaxis": {
            "backgroundcolor": "#E5ECF6",
            "gridcolor": "white",
            "gridwidth": 2,
            "linecolor": "white",
            "showbackground": true,
            "ticks": "",
            "zerolinecolor": "white"
           },
           "zaxis": {
            "backgroundcolor": "#E5ECF6",
            "gridcolor": "white",
            "gridwidth": 2,
            "linecolor": "white",
            "showbackground": true,
            "ticks": "",
            "zerolinecolor": "white"
           }
          },
          "shapedefaults": {
           "line": {
            "color": "#2a3f5f"
           }
          },
          "ternary": {
           "aaxis": {
            "gridcolor": "white",
            "linecolor": "white",
            "ticks": ""
           },
           "baxis": {
            "gridcolor": "white",
            "linecolor": "white",
            "ticks": ""
           },
           "bgcolor": "#E5ECF6",
           "caxis": {
            "gridcolor": "white",
            "linecolor": "white",
            "ticks": ""
           }
          },
          "title": {
           "x": 0.05
          },
          "xaxis": {
           "automargin": true,
           "gridcolor": "white",
           "linecolor": "white",
           "ticks": "",
           "title": {
            "standoff": 15
           },
           "zerolinecolor": "white",
           "zerolinewidth": 2
          },
          "yaxis": {
           "automargin": true,
           "gridcolor": "white",
           "linecolor": "white",
           "ticks": "",
           "title": {
            "standoff": 15
           },
           "zerolinecolor": "white",
           "zerolinewidth": 2
          }
         }
        },
        "title": {
         "text": "Countries with the most humansDeaths",
         "x": 0.5
        },
        "updatemenus": [
         {
          "buttons": [
           {
            "args": [
             {
              "x": [
               [
                "Malaysia",
                "Saudi Arabia",
                "China",
                "China",
                "Niger",
                "Saudi Arabia",
                "Saudi Arabia",
                "China",
                "China",
                "Taiwan (Province of China)"
               ]
              ],
              "y": [
               [
                2,
                1,
                1,
                1,
                1,
                1,
                1,
                1,
                1,
                1
               ]
              ]
             },
             {
              "title": "Countries with the most humansDeaths"
             }
            ],
            "label": "humansDeaths",
            "method": "update"
           },
           {
            "args": [
             {
              "x": [
               [
                "Russian Federation",
                "Malaysia",
                "Cameroon",
                "Saudi Arabia",
                "Saudi Arabia",
                "Saudi Arabia",
                "China",
                "China",
                "China",
                "Saudi Arabia"
               ]
              ],
              "y": [
               [
                24,
                4,
                3,
                1,
                1,
                1,
                1,
                1,
                1,
                1
               ]
              ]
             },
             {
              "title": "Countries with the most humansAffected"
             }
            ],
            "label": "humansAffected",
            "method": "update"
           },
           {
            "args": [
             {
              "x": [
               [
                "Chile",
                "Israel",
                "Israel",
                "Israel",
                "Israel",
                "Israel",
                "Israel",
                "Niger",
                "Israel",
                "Israel"
               ]
              ],
              "y": [
               [
                339006,
                200000,
                198800,
                139950,
                90000,
                60000,
                42750,
                30500,
                26500,
                22000
               ]
              ]
             },
             {
              "title": "Countries with the most sumSlaughtered"
             }
            ],
            "label": "sumSlaughtered",
            "method": "update"
           },
           {
            "args": [
             {
              "x": [
               [
                "Iraq",
                "Republic of Korea",
                "Republic of Korea",
                "Republic of Korea",
                "Republic of Korea",
                "Republic of Korea",
                "Iraq",
                "Republic of Korea",
                "Republic of Korea",
                "Iraq"
               ]
              ],
              "y": [
               [
                913590,
                898080,
                898080,
                788000,
                700000,
                622019,
                621475,
                571195,
                559359,
                487951
               ]
              ]
             },
             {
              "title": "Countries with the most sumDestroyed"
             }
            ],
            "label": "sumDestroyed",
            "method": "update"
           },
           {
            "args": [
             {
              "x": [
               [
                "Iraq",
                "Niger",
                "Israel",
                "Iraq",
                "Israel",
                "Iraq",
                "Republic of Korea",
                "Israel",
                "Côte d'Ivoire",
                "Romania"
               ]
              ],
              "y": [
               [
                439799,
                86000,
                71000,
                64500,
                53000,
                51049,
                50318,
                45000,
                44634,
                44610
               ]
              ]
             },
             {
              "title": "Countries with the most sumDeaths"
             }
            ],
            "label": "sumDeaths",
            "method": "update"
           },
           {
            "args": [
             {
              "x": [
               [
                "Italy",
                "Iraq",
                "Italy",
                "Niger",
                "Iraq",
                "Bulgaria",
                "China",
                "Iraq",
                "Republic of Korea",
                "Iran  (Islamic Republic of)"
               ]
              ],
              "y": [
               [
                460000,
                439799,
                123463,
                86000,
                64500,
                62000,
                59565,
                51049,
                50318,
                50000
               ]
              ]
             },
             {
              "title": "Countries with the most sumCases"
             }
            ],
            "label": "sumCases",
            "method": "update"
           },
           {
            "args": [
             {
              "x": [
               [
                "Zimbabwe",
                "Iraq",
                "Republic of Korea",
                "Republic of Korea",
                "Republic of Korea",
                "Republic of Korea",
                "Iraq",
                "Iraq",
                "Republic of Korea",
                "Republic of Korea"
               ]
              ],
              "y": [
               [
                2000000,
                914000,
                898100,
                898100,
                788300,
                700650,
                685975,
                668000,
                622144,
                571320
               ]
              ]
             },
             {
              "title": "Countries with the most sumAtRisk"
             }
            ],
            "label": "sumAtRisk",
            "method": "update"
           },
           {
            "args": [
             {
              "x": [
               [
                "France",
                "France",
                "France",
                "France",
                "France",
                "France",
                "Portugal",
                "Portugal",
                "France",
                "Panama"
               ]
              ],
              "y": [
               [
                "West Nile Fever",
                "West Nile Fever",
                "West Nile Fever",
                "West Nile Fever",
                "West Nile Fever",
                "West Nile Fever",
                "West Nile Fever",
                "West Nile Fever",
                "West Nile Fever",
                "West Nile Fever"
               ]
              ]
             },
             {
              "title": "Countries with the most disease"
             }
            ],
            "label": "disease",
            "method": "update"
           },
           {
            "args": [
             {
              "x": [
               [
                "Iran  (Islamic Republic of)",
                "Cameroon",
                "Namibia",
                "Turkey",
                "Turkey",
                "Cameroon",
                "Lithuania",
                "Lithuania",
                "Lithuania",
                "Egypt"
               ]
              ],
              "y": [
               [
                "Denied",
                "Denied",
                "Denied",
                "Denied",
                "Denied",
                "Denied",
                "Confirmed",
                "Confirmed",
                "Confirmed",
                "Confirmed"
               ]
              ]
             },
             {
              "title": "Countries with the most status"
             }
            ],
            "label": "status",
            "method": "update"
           },
           {
            "args": [
             {
              "x": [
               [
                "Czech Republic",
                "Czech Republic",
                "Czech Republic",
                "Czech Republic",
                "Montenegro",
                "Serbia",
                "Serbia",
                "Serbia",
                "Serbia",
                "Serbia"
               ]
              ],
              "y": [
               [
                "Žofina Hut",
                "Želechovice ",
                "Želechovice ",
                "Ždár nad Orlicí",
                "ŽABLJAK",
                "Šutci",
                "Šutci",
                "Štavica",
                "Šljivovica",
                "Šljivovica"
               ]
              ]
             },
             {
              "title": "Countries with the most localityName"
             }
            ],
            "label": "localityName",
            "method": "update"
           },
           {
            "args": [
             {
              "x": [
               [
                "France",
                "Russian Federation",
                "Albania",
                "Albania",
                "Albania",
                "Montenegro",
                "Italy",
                "Russian Federation",
                "Russian Federation",
                "Russian Federation"
               ]
              ],
              "y": [
               [
                "Europe",
                "Europe",
                "Europe",
                "Europe",
                "Europe",
                "Europe",
                "Europe",
                "Europe",
                "Europe",
                "Europe"
               ]
              ]
             },
             {
              "title": "Countries with the most region"
             }
            ],
            "label": "region",
            "method": "update"
           },
           {
            "args": [
             {
              "x": [
               [
                "Japan",
                "Japan",
                "Japan",
                "Japan",
                "Japan",
                "Japan",
                "Japan",
                "Japan",
                "Japan",
                "Japan"
               ]
              ],
              "y": [
               [
                144.847374,
                144.847373,
                144.847367,
                143.895771,
                143.895682,
                143.296234,
                143.197982,
                142.884491,
                141.708553,
                141.605494
               ]
              ]
             },
             {
              "title": "Countries with the most longitude"
             }
            ],
            "label": "longitude",
            "method": "update"
           },
           {
            "args": [
             {
              "x": [
               [
                "Russian Federation",
                "Russian Federation",
                "Russian Federation",
                "Russian Federation",
                "Russian Federation",
                "Russian Federation",
                "Russian Federation",
                "United States of America",
                "Russian Federation",
                "Russian Federation"
               ]
              ],
              "y": [
               [
                68.392,
                68.364,
                68.284,
                68.1302,
                67.91,
                67.6923,
                66.863333,
                64.756,
                64.3246,
                64.3093
               ]
              ]
             },
             {
              "title": "Countries with the most latitude"
             }
            ],
            "label": "latitude",
            "method": "update"
           }
          ],
          "direction": "down",
          "showactive": true,
          "x": 0.005,
          "xanchor": "left",
          "y": 1.4,
          "yanchor": "top"
         }
        ],
        "xaxis": {
         "anchor": "y",
         "domain": [
          0,
          1
         ],
         "title": {
          "text": "country"
         }
        },
        "yaxis": {
         "anchor": "x",
         "domain": [
          0,
          1
         ],
         "title": {
          "text": "humansDeaths"
         }
        }
       }
      },
      "text/html": [
       "<div>                            <div id=\"8ea55e55-0f44-4b02-81ef-2a2877ebf947\" class=\"plotly-graph-div\" style=\"height:525px; width:100%;\"></div>            <script type=\"text/javascript\">                require([\"plotly\"], function(Plotly) {                    window.PLOTLYENV=window.PLOTLYENV || {};                                    if (document.getElementById(\"8ea55e55-0f44-4b02-81ef-2a2877ebf947\")) {                    Plotly.newPlot(                        \"8ea55e55-0f44-4b02-81ef-2a2877ebf947\",                        [{\"alignmentgroup\":\"True\",\"hovertemplate\":\"country=%{x}<br>humansDeaths=%{y}<extra></extra>\",\"legendgroup\":\"\",\"marker\":{\"color\":\"#020202\",\"pattern\":{\"shape\":\"\"}},\"name\":\"\",\"offsetgroup\":\"\",\"orientation\":\"v\",\"showlegend\":false,\"textposition\":\"auto\",\"texttemplate\":\"%{y}\",\"x\":[\"Malaysia\",\"Saudi Arabia\",\"China\",\"China\",\"Niger\",\"Saudi Arabia\",\"Saudi Arabia\",\"China\",\"China\",\"Taiwan (Province of China)\"],\"xaxis\":\"x\",\"y\":[2.0,1.0,1.0,1.0,1.0,1.0,1.0,1.0,1.0,1.0],\"yaxis\":\"y\",\"type\":\"bar\"}],                        {\"template\":{\"data\":{\"histogram2dcontour\":[{\"type\":\"histogram2dcontour\",\"colorbar\":{\"outlinewidth\":0,\"ticks\":\"\"},\"colorscale\":[[0.0,\"#0d0887\"],[0.1111111111111111,\"#46039f\"],[0.2222222222222222,\"#7201a8\"],[0.3333333333333333,\"#9c179e\"],[0.4444444444444444,\"#bd3786\"],[0.5555555555555556,\"#d8576b\"],[0.6666666666666666,\"#ed7953\"],[0.7777777777777778,\"#fb9f3a\"],[0.8888888888888888,\"#fdca26\"],[1.0,\"#f0f921\"]]}],\"choropleth\":[{\"type\":\"choropleth\",\"colorbar\":{\"outlinewidth\":0,\"ticks\":\"\"}}],\"histogram2d\":[{\"type\":\"histogram2d\",\"colorbar\":{\"outlinewidth\":0,\"ticks\":\"\"},\"colorscale\":[[0.0,\"#0d0887\"],[0.1111111111111111,\"#46039f\"],[0.2222222222222222,\"#7201a8\"],[0.3333333333333333,\"#9c179e\"],[0.4444444444444444,\"#bd3786\"],[0.5555555555555556,\"#d8576b\"],[0.6666666666666666,\"#ed7953\"],[0.7777777777777778,\"#fb9f3a\"],[0.8888888888888888,\"#fdca26\"],[1.0,\"#f0f921\"]]}],\"heatmap\":[{\"type\":\"heatmap\",\"colorbar\":{\"outlinewidth\":0,\"ticks\":\"\"},\"colorscale\":[[0.0,\"#0d0887\"],[0.1111111111111111,\"#46039f\"],[0.2222222222222222,\"#7201a8\"],[0.3333333333333333,\"#9c179e\"],[0.4444444444444444,\"#bd3786\"],[0.5555555555555556,\"#d8576b\"],[0.6666666666666666,\"#ed7953\"],[0.7777777777777778,\"#fb9f3a\"],[0.8888888888888888,\"#fdca26\"],[1.0,\"#f0f921\"]]}],\"heatmapgl\":[{\"type\":\"heatmapgl\",\"colorbar\":{\"outlinewidth\":0,\"ticks\":\"\"},\"colorscale\":[[0.0,\"#0d0887\"],[0.1111111111111111,\"#46039f\"],[0.2222222222222222,\"#7201a8\"],[0.3333333333333333,\"#9c179e\"],[0.4444444444444444,\"#bd3786\"],[0.5555555555555556,\"#d8576b\"],[0.6666666666666666,\"#ed7953\"],[0.7777777777777778,\"#fb9f3a\"],[0.8888888888888888,\"#fdca26\"],[1.0,\"#f0f921\"]]}],\"contourcarpet\":[{\"type\":\"contourcarpet\",\"colorbar\":{\"outlinewidth\":0,\"ticks\":\"\"}}],\"contour\":[{\"type\":\"contour\",\"colorbar\":{\"outlinewidth\":0,\"ticks\":\"\"},\"colorscale\":[[0.0,\"#0d0887\"],[0.1111111111111111,\"#46039f\"],[0.2222222222222222,\"#7201a8\"],[0.3333333333333333,\"#9c179e\"],[0.4444444444444444,\"#bd3786\"],[0.5555555555555556,\"#d8576b\"],[0.6666666666666666,\"#ed7953\"],[0.7777777777777778,\"#fb9f3a\"],[0.8888888888888888,\"#fdca26\"],[1.0,\"#f0f921\"]]}],\"surface\":[{\"type\":\"surface\",\"colorbar\":{\"outlinewidth\":0,\"ticks\":\"\"},\"colorscale\":[[0.0,\"#0d0887\"],[0.1111111111111111,\"#46039f\"],[0.2222222222222222,\"#7201a8\"],[0.3333333333333333,\"#9c179e\"],[0.4444444444444444,\"#bd3786\"],[0.5555555555555556,\"#d8576b\"],[0.6666666666666666,\"#ed7953\"],[0.7777777777777778,\"#fb9f3a\"],[0.8888888888888888,\"#fdca26\"],[1.0,\"#f0f921\"]]}],\"mesh3d\":[{\"type\":\"mesh3d\",\"colorbar\":{\"outlinewidth\":0,\"ticks\":\"\"}}],\"scatter\":[{\"fillpattern\":{\"fillmode\":\"overlay\",\"size\":10,\"solidity\":0.2},\"type\":\"scatter\"}],\"parcoords\":[{\"type\":\"parcoords\",\"line\":{\"colorbar\":{\"outlinewidth\":0,\"ticks\":\"\"}}}],\"scatterpolargl\":[{\"type\":\"scatterpolargl\",\"marker\":{\"colorbar\":{\"outlinewidth\":0,\"ticks\":\"\"}}}],\"bar\":[{\"error_x\":{\"color\":\"#2a3f5f\"},\"error_y\":{\"color\":\"#2a3f5f\"},\"marker\":{\"line\":{\"color\":\"#E5ECF6\",\"width\":0.5},\"pattern\":{\"fillmode\":\"overlay\",\"size\":10,\"solidity\":0.2}},\"type\":\"bar\"}],\"scattergeo\":[{\"type\":\"scattergeo\",\"marker\":{\"colorbar\":{\"outlinewidth\":0,\"ticks\":\"\"}}}],\"scatterpolar\":[{\"type\":\"scatterpolar\",\"marker\":{\"colorbar\":{\"outlinewidth\":0,\"ticks\":\"\"}}}],\"histogram\":[{\"marker\":{\"pattern\":{\"fillmode\":\"overlay\",\"size\":10,\"solidity\":0.2}},\"type\":\"histogram\"}],\"scattergl\":[{\"type\":\"scattergl\",\"marker\":{\"colorbar\":{\"outlinewidth\":0,\"ticks\":\"\"}}}],\"scatter3d\":[{\"type\":\"scatter3d\",\"line\":{\"colorbar\":{\"outlinewidth\":0,\"ticks\":\"\"}},\"marker\":{\"colorbar\":{\"outlinewidth\":0,\"ticks\":\"\"}}}],\"scattermapbox\":[{\"type\":\"scattermapbox\",\"marker\":{\"colorbar\":{\"outlinewidth\":0,\"ticks\":\"\"}}}],\"scatterternary\":[{\"type\":\"scatterternary\",\"marker\":{\"colorbar\":{\"outlinewidth\":0,\"ticks\":\"\"}}}],\"scattercarpet\":[{\"type\":\"scattercarpet\",\"marker\":{\"colorbar\":{\"outlinewidth\":0,\"ticks\":\"\"}}}],\"carpet\":[{\"aaxis\":{\"endlinecolor\":\"#2a3f5f\",\"gridcolor\":\"white\",\"linecolor\":\"white\",\"minorgridcolor\":\"white\",\"startlinecolor\":\"#2a3f5f\"},\"baxis\":{\"endlinecolor\":\"#2a3f5f\",\"gridcolor\":\"white\",\"linecolor\":\"white\",\"minorgridcolor\":\"white\",\"startlinecolor\":\"#2a3f5f\"},\"type\":\"carpet\"}],\"table\":[{\"cells\":{\"fill\":{\"color\":\"#EBF0F8\"},\"line\":{\"color\":\"white\"}},\"header\":{\"fill\":{\"color\":\"#C8D4E3\"},\"line\":{\"color\":\"white\"}},\"type\":\"table\"}],\"barpolar\":[{\"marker\":{\"line\":{\"color\":\"#E5ECF6\",\"width\":0.5},\"pattern\":{\"fillmode\":\"overlay\",\"size\":10,\"solidity\":0.2}},\"type\":\"barpolar\"}],\"pie\":[{\"automargin\":true,\"type\":\"pie\"}]},\"layout\":{\"autotypenumbers\":\"strict\",\"colorway\":[\"#636efa\",\"#EF553B\",\"#00cc96\",\"#ab63fa\",\"#FFA15A\",\"#19d3f3\",\"#FF6692\",\"#B6E880\",\"#FF97FF\",\"#FECB52\"],\"font\":{\"color\":\"#2a3f5f\"},\"hovermode\":\"closest\",\"hoverlabel\":{\"align\":\"left\"},\"paper_bgcolor\":\"white\",\"plot_bgcolor\":\"#E5ECF6\",\"polar\":{\"bgcolor\":\"#E5ECF6\",\"angularaxis\":{\"gridcolor\":\"white\",\"linecolor\":\"white\",\"ticks\":\"\"},\"radialaxis\":{\"gridcolor\":\"white\",\"linecolor\":\"white\",\"ticks\":\"\"}},\"ternary\":{\"bgcolor\":\"#E5ECF6\",\"aaxis\":{\"gridcolor\":\"white\",\"linecolor\":\"white\",\"ticks\":\"\"},\"baxis\":{\"gridcolor\":\"white\",\"linecolor\":\"white\",\"ticks\":\"\"},\"caxis\":{\"gridcolor\":\"white\",\"linecolor\":\"white\",\"ticks\":\"\"}},\"coloraxis\":{\"colorbar\":{\"outlinewidth\":0,\"ticks\":\"\"}},\"colorscale\":{\"sequential\":[[0.0,\"#0d0887\"],[0.1111111111111111,\"#46039f\"],[0.2222222222222222,\"#7201a8\"],[0.3333333333333333,\"#9c179e\"],[0.4444444444444444,\"#bd3786\"],[0.5555555555555556,\"#d8576b\"],[0.6666666666666666,\"#ed7953\"],[0.7777777777777778,\"#fb9f3a\"],[0.8888888888888888,\"#fdca26\"],[1.0,\"#f0f921\"]],\"sequentialminus\":[[0.0,\"#0d0887\"],[0.1111111111111111,\"#46039f\"],[0.2222222222222222,\"#7201a8\"],[0.3333333333333333,\"#9c179e\"],[0.4444444444444444,\"#bd3786\"],[0.5555555555555556,\"#d8576b\"],[0.6666666666666666,\"#ed7953\"],[0.7777777777777778,\"#fb9f3a\"],[0.8888888888888888,\"#fdca26\"],[1.0,\"#f0f921\"]],\"diverging\":[[0,\"#8e0152\"],[0.1,\"#c51b7d\"],[0.2,\"#de77ae\"],[0.3,\"#f1b6da\"],[0.4,\"#fde0ef\"],[0.5,\"#f7f7f7\"],[0.6,\"#e6f5d0\"],[0.7,\"#b8e186\"],[0.8,\"#7fbc41\"],[0.9,\"#4d9221\"],[1,\"#276419\"]]},\"xaxis\":{\"gridcolor\":\"white\",\"linecolor\":\"white\",\"ticks\":\"\",\"title\":{\"standoff\":15},\"zerolinecolor\":\"white\",\"automargin\":true,\"zerolinewidth\":2},\"yaxis\":{\"gridcolor\":\"white\",\"linecolor\":\"white\",\"ticks\":\"\",\"title\":{\"standoff\":15},\"zerolinecolor\":\"white\",\"automargin\":true,\"zerolinewidth\":2},\"scene\":{\"xaxis\":{\"backgroundcolor\":\"#E5ECF6\",\"gridcolor\":\"white\",\"linecolor\":\"white\",\"showbackground\":true,\"ticks\":\"\",\"zerolinecolor\":\"white\",\"gridwidth\":2},\"yaxis\":{\"backgroundcolor\":\"#E5ECF6\",\"gridcolor\":\"white\",\"linecolor\":\"white\",\"showbackground\":true,\"ticks\":\"\",\"zerolinecolor\":\"white\",\"gridwidth\":2},\"zaxis\":{\"backgroundcolor\":\"#E5ECF6\",\"gridcolor\":\"white\",\"linecolor\":\"white\",\"showbackground\":true,\"ticks\":\"\",\"zerolinecolor\":\"white\",\"gridwidth\":2}},\"shapedefaults\":{\"line\":{\"color\":\"#2a3f5f\"}},\"annotationdefaults\":{\"arrowcolor\":\"#2a3f5f\",\"arrowhead\":0,\"arrowwidth\":1},\"geo\":{\"bgcolor\":\"white\",\"landcolor\":\"#E5ECF6\",\"subunitcolor\":\"white\",\"showland\":true,\"showlakes\":true,\"lakecolor\":\"white\"},\"title\":{\"x\":0.05},\"mapbox\":{\"style\":\"light\"}}},\"xaxis\":{\"anchor\":\"y\",\"domain\":[0.0,1.0],\"title\":{\"text\":\"country\"}},\"yaxis\":{\"anchor\":\"x\",\"domain\":[0.0,1.0],\"title\":{\"text\":\"humansDeaths\"}},\"legend\":{\"tracegroupgap\":0},\"title\":{\"text\":\"Countries with the most humansDeaths\",\"x\":0.5},\"barmode\":\"relative\",\"updatemenus\":[{\"buttons\":[{\"args\":[{\"x\":[[\"Malaysia\",\"Saudi Arabia\",\"China\",\"China\",\"Niger\",\"Saudi Arabia\",\"Saudi Arabia\",\"China\",\"China\",\"Taiwan (Province of China)\"]],\"y\":[[2.0,1.0,1.0,1.0,1.0,1.0,1.0,1.0,1.0,1.0]]},{\"title\":\"Countries with the most humansDeaths\"}],\"label\":\"humansDeaths\",\"method\":\"update\"},{\"args\":[{\"x\":[[\"Russian Federation\",\"Malaysia\",\"Cameroon\",\"Saudi Arabia\",\"Saudi Arabia\",\"Saudi Arabia\",\"China\",\"China\",\"China\",\"Saudi Arabia\"]],\"y\":[[24.0,4.0,3.0,1.0,1.0,1.0,1.0,1.0,1.0,1.0]]},{\"title\":\"Countries with the most humansAffected\"}],\"label\":\"humansAffected\",\"method\":\"update\"},{\"args\":[{\"x\":[[\"Chile\",\"Israel\",\"Israel\",\"Israel\",\"Israel\",\"Israel\",\"Israel\",\"Niger\",\"Israel\",\"Israel\"]],\"y\":[[339006.0,200000.0,198800.0,139950.0,90000.0,60000.0,42750.0,30500.0,26500.0,22000.0]]},{\"title\":\"Countries with the most sumSlaughtered\"}],\"label\":\"sumSlaughtered\",\"method\":\"update\"},{\"args\":[{\"x\":[[\"Iraq\",\"Republic of Korea\",\"Republic of Korea\",\"Republic of Korea\",\"Republic of Korea\",\"Republic of Korea\",\"Iraq\",\"Republic of Korea\",\"Republic of Korea\",\"Iraq\"]],\"y\":[[913590.0,898080.0,898080.0,788000.0,700000.0,622019.0,621475.0,571195.0,559359.0,487951.0]]},{\"title\":\"Countries with the most sumDestroyed\"}],\"label\":\"sumDestroyed\",\"method\":\"update\"},{\"args\":[{\"x\":[[\"Iraq\",\"Niger\",\"Israel\",\"Iraq\",\"Israel\",\"Iraq\",\"Republic of Korea\",\"Israel\",\"C\\u00f4te d'Ivoire\",\"Romania\"]],\"y\":[[439799.0,86000.0,71000.0,64500.0,53000.0,51049.0,50318.0,45000.0,44634.0,44610.0]]},{\"title\":\"Countries with the most sumDeaths\"}],\"label\":\"sumDeaths\",\"method\":\"update\"},{\"args\":[{\"x\":[[\"Italy\",\"Iraq\",\"Italy\",\"Niger\",\"Iraq\",\"Bulgaria\",\"China\",\"Iraq\",\"Republic of Korea\",\"Iran  (Islamic Republic of)\"]],\"y\":[[460000.0,439799.0,123463.0,86000.0,64500.0,62000.0,59565.0,51049.0,50318.0,50000.0]]},{\"title\":\"Countries with the most sumCases\"}],\"label\":\"sumCases\",\"method\":\"update\"},{\"args\":[{\"x\":[[\"Zimbabwe\",\"Iraq\",\"Republic of Korea\",\"Republic of Korea\",\"Republic of Korea\",\"Republic of Korea\",\"Iraq\",\"Iraq\",\"Republic of Korea\",\"Republic of Korea\"]],\"y\":[[2000000.0,914000.0,898100.0,898100.0,788300.0,700650.0,685975.0,668000.0,622144.0,571320.0]]},{\"title\":\"Countries with the most sumAtRisk\"}],\"label\":\"sumAtRisk\",\"method\":\"update\"},{\"args\":[{\"x\":[[\"France\",\"France\",\"France\",\"France\",\"France\",\"France\",\"Portugal\",\"Portugal\",\"France\",\"Panama\"]],\"y\":[[\"West Nile Fever\",\"West Nile Fever\",\"West Nile Fever\",\"West Nile Fever\",\"West Nile Fever\",\"West Nile Fever\",\"West Nile Fever\",\"West Nile Fever\",\"West Nile Fever\",\"West Nile Fever\"]]},{\"title\":\"Countries with the most disease\"}],\"label\":\"disease\",\"method\":\"update\"},{\"args\":[{\"x\":[[\"Iran  (Islamic Republic of)\",\"Cameroon\",\"Namibia\",\"Turkey\",\"Turkey\",\"Cameroon\",\"Lithuania\",\"Lithuania\",\"Lithuania\",\"Egypt\"]],\"y\":[[\"Denied\",\"Denied\",\"Denied\",\"Denied\",\"Denied\",\"Denied\",\"Confirmed\",\"Confirmed\",\"Confirmed\",\"Confirmed\"]]},{\"title\":\"Countries with the most status\"}],\"label\":\"status\",\"method\":\"update\"},{\"args\":[{\"x\":[[\"Czech Republic\",\"Czech Republic\",\"Czech Republic\",\"Czech Republic\",\"Montenegro\",\"Serbia\",\"Serbia\",\"Serbia\",\"Serbia\",\"Serbia\"]],\"y\":[[\"\\u017dofina Hut\",\"\\u017delechovice \",\"\\u017delechovice \",\"\\u017dd\\u00e1r nad Orlic\\u00ed\",\"\\u017dABLJAK\",\"\\u0160utci\",\"\\u0160utci\",\"\\u0160tavica\",\"\\u0160ljivovica\",\"\\u0160ljivovica\"]]},{\"title\":\"Countries with the most localityName\"}],\"label\":\"localityName\",\"method\":\"update\"},{\"args\":[{\"x\":[[\"France\",\"Russian Federation\",\"Albania\",\"Albania\",\"Albania\",\"Montenegro\",\"Italy\",\"Russian Federation\",\"Russian Federation\",\"Russian Federation\"]],\"y\":[[\"Europe\",\"Europe\",\"Europe\",\"Europe\",\"Europe\",\"Europe\",\"Europe\",\"Europe\",\"Europe\",\"Europe\"]]},{\"title\":\"Countries with the most region\"}],\"label\":\"region\",\"method\":\"update\"},{\"args\":[{\"x\":[[\"Japan\",\"Japan\",\"Japan\",\"Japan\",\"Japan\",\"Japan\",\"Japan\",\"Japan\",\"Japan\",\"Japan\"]],\"y\":[[144.847374,144.847373,144.847367,143.895771,143.895682,143.296234,143.197982,142.884491,141.708553,141.605494]]},{\"title\":\"Countries with the most longitude\"}],\"label\":\"longitude\",\"method\":\"update\"},{\"args\":[{\"x\":[[\"Russian Federation\",\"Russian Federation\",\"Russian Federation\",\"Russian Federation\",\"Russian Federation\",\"Russian Federation\",\"Russian Federation\",\"United States of America\",\"Russian Federation\",\"Russian Federation\"]],\"y\":[[68.392,68.364,68.284,68.1302,67.91,67.6923,66.863333,64.756,64.3246,64.3093]]},{\"title\":\"Countries with the most latitude\"}],\"label\":\"latitude\",\"method\":\"update\"}],\"direction\":\"down\",\"showactive\":true,\"x\":0.005,\"xanchor\":\"left\",\"y\":1.4,\"yanchor\":\"top\"}]},                        {\"responsive\": true}                    ).then(function(){\n",
       "                            \n",
       "var gd = document.getElementById('8ea55e55-0f44-4b02-81ef-2a2877ebf947');\n",
       "var x = new MutationObserver(function (mutations, observer) {{\n",
       "        var display = window.getComputedStyle(gd).display;\n",
       "        if (!display || display === 'none') {{\n",
       "            console.log([gd, 'removed!']);\n",
       "            Plotly.purge(gd);\n",
       "            observer.disconnect();\n",
       "        }}\n",
       "}});\n",
       "\n",
       "// Listen for the removal of the full notebook cells\n",
       "var notebookContainer = gd.closest('#notebook-container');\n",
       "if (notebookContainer) {{\n",
       "    x.observe(notebookContainer, {childList: true});\n",
       "}}\n",
       "\n",
       "// Listen for the clearing of the current output cell\n",
       "var outputEl = gd.closest('.output');\n",
       "if (outputEl) {{\n",
       "    x.observe(outputEl, {childList: true});\n",
       "}}\n",
       "\n",
       "                        })                };                });            </script>        </div>"
      ]
     },
     "metadata": {},
     "output_type": "display_data"
    }
   ],
   "source": [
    "# Dynamic bar chart\n",
    "most_slaughters(df)"
   ]
  },
  {
   "cell_type": "code",
   "execution_count": 153,
   "id": "4616a3b1",
   "metadata": {},
   "outputs": [
    {
     "data": {
      "text/plain": [
       "country\n",
       "Albania       0.0\n",
       "Algeria      12.0\n",
       "Angola        0.0\n",
       "Argentina     0.0\n",
       "Armenia       0.0\n",
       "             ... \n",
       "Uruguay       0.0\n",
       "Viet Nam      0.0\n",
       "West Bank     0.0\n",
       "Zambia        0.0\n",
       "Zimbabwe     49.0\n",
       "Name: sumSlaughtered, Length: 122, dtype: float64"
      ]
     },
     "execution_count": 153,
     "metadata": {},
     "output_type": "execute_result"
    }
   ],
   "source": [
    "# Group the data by country and sum the values\n",
    "df_sum = df.groupby('country')['sumSlaughtered'].sum()\n",
    "df_sum"
   ]
  },
  {
   "cell_type": "code",
   "execution_count": 154,
   "id": "85e613a1",
   "metadata": {},
   "outputs": [
    {
     "data": {
      "text/plain": [
       "pandas.core.series.Series"
      ]
     },
     "execution_count": 154,
     "metadata": {},
     "output_type": "execute_result"
    }
   ],
   "source": [
    "type(df_sum)"
   ]
  },
  {
   "cell_type": "code",
   "execution_count": 155,
   "id": "7a23aac2",
   "metadata": {},
   "outputs": [],
   "source": [
    "df0 = df_sum.to_frame()"
   ]
  },
  {
   "cell_type": "code",
   "execution_count": 156,
   "id": "0437afb5",
   "metadata": {},
   "outputs": [
    {
     "data": {
      "text/html": [
       "<div>\n",
       "<style scoped>\n",
       "    .dataframe tbody tr th:only-of-type {\n",
       "        vertical-align: middle;\n",
       "    }\n",
       "\n",
       "    .dataframe tbody tr th {\n",
       "        vertical-align: top;\n",
       "    }\n",
       "\n",
       "    .dataframe thead th {\n",
       "        text-align: right;\n",
       "    }\n",
       "</style>\n",
       "<table border=\"1\" class=\"dataframe\">\n",
       "  <thead>\n",
       "    <tr style=\"text-align: right;\">\n",
       "      <th></th>\n",
       "      <th>sumSlaughtered</th>\n",
       "    </tr>\n",
       "    <tr>\n",
       "      <th>country</th>\n",
       "      <th></th>\n",
       "    </tr>\n",
       "  </thead>\n",
       "  <tbody>\n",
       "    <tr>\n",
       "      <th>Albania</th>\n",
       "      <td>0.0</td>\n",
       "    </tr>\n",
       "    <tr>\n",
       "      <th>Algeria</th>\n",
       "      <td>12.0</td>\n",
       "    </tr>\n",
       "    <tr>\n",
       "      <th>Angola</th>\n",
       "      <td>0.0</td>\n",
       "    </tr>\n",
       "    <tr>\n",
       "      <th>Argentina</th>\n",
       "      <td>0.0</td>\n",
       "    </tr>\n",
       "    <tr>\n",
       "      <th>Armenia</th>\n",
       "      <td>0.0</td>\n",
       "    </tr>\n",
       "    <tr>\n",
       "      <th>...</th>\n",
       "      <td>...</td>\n",
       "    </tr>\n",
       "    <tr>\n",
       "      <th>Uruguay</th>\n",
       "      <td>0.0</td>\n",
       "    </tr>\n",
       "    <tr>\n",
       "      <th>Viet Nam</th>\n",
       "      <td>0.0</td>\n",
       "    </tr>\n",
       "    <tr>\n",
       "      <th>West Bank</th>\n",
       "      <td>0.0</td>\n",
       "    </tr>\n",
       "    <tr>\n",
       "      <th>Zambia</th>\n",
       "      <td>0.0</td>\n",
       "    </tr>\n",
       "    <tr>\n",
       "      <th>Zimbabwe</th>\n",
       "      <td>49.0</td>\n",
       "    </tr>\n",
       "  </tbody>\n",
       "</table>\n",
       "<p>122 rows × 1 columns</p>\n",
       "</div>"
      ],
      "text/plain": [
       "           sumSlaughtered\n",
       "country                  \n",
       "Albania               0.0\n",
       "Algeria              12.0\n",
       "Angola                0.0\n",
       "Argentina             0.0\n",
       "Armenia               0.0\n",
       "...                   ...\n",
       "Uruguay               0.0\n",
       "Viet Nam              0.0\n",
       "West Bank             0.0\n",
       "Zambia                0.0\n",
       "Zimbabwe             49.0\n",
       "\n",
       "[122 rows x 1 columns]"
      ]
     },
     "execution_count": 156,
     "metadata": {},
     "output_type": "execute_result"
    }
   ],
   "source": [
    "df0"
   ]
  },
  {
   "cell_type": "code",
   "execution_count": 157,
   "id": "eb6f73b0",
   "metadata": {},
   "outputs": [],
   "source": [
    "# Drop rows where sumSlaughtered has a value of 0\n",
    "df0.drop(df0[df0['sumSlaughtered'] == 0].index, inplace=True)"
   ]
  },
  {
   "cell_type": "code",
   "execution_count": 158,
   "id": "add19b29",
   "metadata": {},
   "outputs": [
    {
     "data": {
      "image/png": "[encoded data removed]",
      "text/plain": [
       "<Figure size 432x288 with 1 Axes>"
      ]
     },
     "metadata": {
      "needs_background": "light"
     },
     "output_type": "display_data"
    }
   ],
   "source": [
    "df0.plot(kind='bar');"
   ]
  },
  {
   "cell_type": "markdown",
   "id": "c51fab49",
   "metadata": {},
   "source": [
    "## Data from 2021 to 2022"
   ]
  },
  {
   "cell_type": "code",
   "execution_count": 199,
   "id": "05a1da84",
   "metadata": {},
   "outputs": [
    {
     "data": {
      "text/html": [
       "<div>\n",
       "<style scoped>\n",
       "    .dataframe tbody tr th:only-of-type {\n",
       "        vertical-align: middle;\n",
       "    }\n",
       "\n",
       "    .dataframe tbody tr th {\n",
       "        vertical-align: top;\n",
       "    }\n",
       "\n",
       "    .dataframe thead th {\n",
       "        text-align: right;\n",
       "    }\n",
       "</style>\n",
       "<table border=\"1\" class=\"dataframe\">\n",
       "  <thead>\n",
       "    <tr style=\"text-align: right;\">\n",
       "      <th></th>\n",
       "      <th>WHOREGION</th>\n",
       "      <th>ITZ</th>\n",
       "      <th>COUNTRY/AREA/TERRITORY</th>\n",
       "      <th>COUNTRY_CODE</th>\n",
       "      <th>ORIGIN_SOURCE</th>\n",
       "      <th>ISO_YEAR</th>\n",
       "      <th>ISO_WEEK</th>\n",
       "      <th>ISO_SDATE</th>\n",
       "      <th>SPEC_RECEIVED_NB</th>\n",
       "      <th>SPEC_PROCESSED_NB</th>\n",
       "      <th>...</th>\n",
       "      <th>AH5</th>\n",
       "      <th>ANOTSUBTYPED</th>\n",
       "      <th>INF_A</th>\n",
       "      <th>BVIC</th>\n",
       "      <th>BYAM</th>\n",
       "      <th>BNOTDETERMINED</th>\n",
       "      <th>INF_B</th>\n",
       "      <th>INF_ALL</th>\n",
       "      <th>INF_NEGATIVE</th>\n",
       "      <th>ILI_ACTIVITY</th>\n",
       "    </tr>\n",
       "  </thead>\n",
       "  <tbody>\n",
       "    <tr>\n",
       "      <th>0</th>\n",
       "      <td>WPR</td>\n",
       "      <td>FLU_OCE_MEL_POL</td>\n",
       "      <td>Australia</td>\n",
       "      <td>AUS</td>\n",
       "      <td>NOTDEFINED</td>\n",
       "      <td>2021</td>\n",
       "      <td>39</td>\n",
       "      <td>2021-09-27T03:00:00.000Z</td>\n",
       "      <td>1757.0</td>\n",
       "      <td>2694.0</td>\n",
       "      <td>...</td>\n",
       "      <td>NaN</td>\n",
       "      <td>0.0</td>\n",
       "      <td>0.0</td>\n",
       "      <td>NaN</td>\n",
       "      <td>NaN</td>\n",
       "      <td>0.0</td>\n",
       "      <td>0.0</td>\n",
       "      <td>0.0</td>\n",
       "      <td>2694.0</td>\n",
       "      <td>2</td>\n",
       "    </tr>\n",
       "    <tr>\n",
       "      <th>1</th>\n",
       "      <td>WPR</td>\n",
       "      <td>FLU_OCE_MEL_POL</td>\n",
       "      <td>Australia</td>\n",
       "      <td>AUS</td>\n",
       "      <td>NOTDEFINED</td>\n",
       "      <td>2021</td>\n",
       "      <td>40</td>\n",
       "      <td>2021-10-04T03:00:00.000Z</td>\n",
       "      <td>1924.0</td>\n",
       "      <td>2753.0</td>\n",
       "      <td>...</td>\n",
       "      <td>NaN</td>\n",
       "      <td>0.0</td>\n",
       "      <td>0.0</td>\n",
       "      <td>NaN</td>\n",
       "      <td>NaN</td>\n",
       "      <td>1.0</td>\n",
       "      <td>1.0</td>\n",
       "      <td>1.0</td>\n",
       "      <td>2752.0</td>\n",
       "      <td>2</td>\n",
       "    </tr>\n",
       "    <tr>\n",
       "      <th>2</th>\n",
       "      <td>WPR</td>\n",
       "      <td>FLU_OCE_MEL_POL</td>\n",
       "      <td>Australia</td>\n",
       "      <td>AUS</td>\n",
       "      <td>NOTDEFINED</td>\n",
       "      <td>2021</td>\n",
       "      <td>41</td>\n",
       "      <td>2021-10-11T03:00:00.000Z</td>\n",
       "      <td>1668.0</td>\n",
       "      <td>2462.0</td>\n",
       "      <td>...</td>\n",
       "      <td>NaN</td>\n",
       "      <td>0.0</td>\n",
       "      <td>0.0</td>\n",
       "      <td>NaN</td>\n",
       "      <td>NaN</td>\n",
       "      <td>0.0</td>\n",
       "      <td>0.0</td>\n",
       "      <td>0.0</td>\n",
       "      <td>2462.0</td>\n",
       "      <td>2</td>\n",
       "    </tr>\n",
       "    <tr>\n",
       "      <th>3</th>\n",
       "      <td>WPR</td>\n",
       "      <td>FLU_OCE_MEL_POL</td>\n",
       "      <td>Australia</td>\n",
       "      <td>AUS</td>\n",
       "      <td>NOTDEFINED</td>\n",
       "      <td>2021</td>\n",
       "      <td>42</td>\n",
       "      <td>2021-10-18T03:00:00.000Z</td>\n",
       "      <td>1772.0</td>\n",
       "      <td>2468.0</td>\n",
       "      <td>...</td>\n",
       "      <td>NaN</td>\n",
       "      <td>0.0</td>\n",
       "      <td>0.0</td>\n",
       "      <td>NaN</td>\n",
       "      <td>NaN</td>\n",
       "      <td>0.0</td>\n",
       "      <td>0.0</td>\n",
       "      <td>0.0</td>\n",
       "      <td>2468.0</td>\n",
       "      <td>2</td>\n",
       "    </tr>\n",
       "    <tr>\n",
       "      <th>4</th>\n",
       "      <td>WPR</td>\n",
       "      <td>FLU_OCE_MEL_POL</td>\n",
       "      <td>Australia</td>\n",
       "      <td>AUS</td>\n",
       "      <td>NOTDEFINED</td>\n",
       "      <td>2021</td>\n",
       "      <td>43</td>\n",
       "      <td>2021-10-25T03:00:00.000Z</td>\n",
       "      <td>1700.0</td>\n",
       "      <td>2369.0</td>\n",
       "      <td>...</td>\n",
       "      <td>NaN</td>\n",
       "      <td>0.0</td>\n",
       "      <td>0.0</td>\n",
       "      <td>NaN</td>\n",
       "      <td>NaN</td>\n",
       "      <td>0.0</td>\n",
       "      <td>0.0</td>\n",
       "      <td>0.0</td>\n",
       "      <td>2368.0</td>\n",
       "      <td>2</td>\n",
       "    </tr>\n",
       "  </tbody>\n",
       "</table>\n",
       "<p>5 rows × 23 columns</p>\n",
       "</div>"
      ],
      "text/plain": [
       "  WHOREGION              ITZ COUNTRY/AREA/TERRITORY COUNTRY_CODE  \\\n",
       "0       WPR  FLU_OCE_MEL_POL              Australia          AUS   \n",
       "1       WPR  FLU_OCE_MEL_POL              Australia          AUS   \n",
       "2       WPR  FLU_OCE_MEL_POL              Australia          AUS   \n",
       "3       WPR  FLU_OCE_MEL_POL              Australia          AUS   \n",
       "4       WPR  FLU_OCE_MEL_POL              Australia          AUS   \n",
       "\n",
       "  ORIGIN_SOURCE  ISO_YEAR  ISO_WEEK                 ISO_SDATE  \\\n",
       "0    NOTDEFINED      2021        39  2021-09-27T03:00:00.000Z   \n",
       "1    NOTDEFINED      2021        40  2021-10-04T03:00:00.000Z   \n",
       "2    NOTDEFINED      2021        41  2021-10-11T03:00:00.000Z   \n",
       "3    NOTDEFINED      2021        42  2021-10-18T03:00:00.000Z   \n",
       "4    NOTDEFINED      2021        43  2021-10-25T03:00:00.000Z   \n",
       "\n",
       "   SPEC_RECEIVED_NB  SPEC_PROCESSED_NB  ...  AH5  ANOTSUBTYPED  INF_A  BVIC  \\\n",
       "0            1757.0             2694.0  ...  NaN           0.0    0.0   NaN   \n",
       "1            1924.0             2753.0  ...  NaN           0.0    0.0   NaN   \n",
       "2            1668.0             2462.0  ...  NaN           0.0    0.0   NaN   \n",
       "3            1772.0             2468.0  ...  NaN           0.0    0.0   NaN   \n",
       "4            1700.0             2369.0  ...  NaN           0.0    0.0   NaN   \n",
       "\n",
       "   BYAM  BNOTDETERMINED  INF_B  INF_ALL  INF_NEGATIVE  ILI_ACTIVITY  \n",
       "0   NaN             0.0    0.0      0.0        2694.0             2  \n",
       "1   NaN             1.0    1.0      1.0        2752.0             2  \n",
       "2   NaN             0.0    0.0      0.0        2462.0             2  \n",
       "3   NaN             0.0    0.0      0.0        2468.0             2  \n",
       "4   NaN             0.0    0.0      0.0        2368.0             2  \n",
       "\n",
       "[5 rows x 23 columns]"
      ]
     },
     "execution_count": 199,
     "metadata": {},
     "output_type": "execute_result"
    }
   ],
   "source": [
    "# IImport the data and visualize the first rows\n",
    "df1 = pd.read_csv('influenza_data_0121_1222.csv')\n",
    "df1.head()"
   ]
  },
  {
   "cell_type": "code",
   "execution_count": 200,
   "id": "34cd9758",
   "metadata": {},
   "outputs": [
    {
     "data": {
      "text/plain": [
       "Index(['WHOREGION', 'ITZ', 'COUNTRY/AREA/TERRITORY', 'COUNTRY_CODE',\n",
       "       'ORIGIN_SOURCE', 'ISO_YEAR', 'ISO_WEEK', 'ISO_SDATE',\n",
       "       'SPEC_RECEIVED_NB', 'SPEC_PROCESSED_NB', 'AH1', 'AH1N12009', 'AH3',\n",
       "       'AH5', 'ANOTSUBTYPED', 'INF_A', 'BVIC', 'BYAM', 'BNOTDETERMINED',\n",
       "       'INF_B', 'INF_ALL', 'INF_NEGATIVE', 'ILI_ACTIVITY'],\n",
       "      dtype='object')"
      ]
     },
     "execution_count": 200,
     "metadata": {},
     "output_type": "execute_result"
    }
   ],
   "source": [
    "# Visualize columns\n",
    "df1.columns"
   ]
  },
  {
   "cell_type": "code",
   "execution_count": 201,
   "id": "91db2cfe",
   "metadata": {},
   "outputs": [
    {
     "data": {
      "text/plain": [
       "Index(['COUNTRY/AREA/TERRITORY', 'ISO_YEAR', 'AH1', 'AH1N12009', 'AH3', 'AH5',\n",
       "       'ANOTSUBTYPED', 'INF_A', 'BVIC', 'BYAM', 'BNOTDETERMINED', 'INF_B',\n",
       "       'INF_ALL', 'INF_NEGATIVE'],\n",
       "      dtype='object')"
      ]
     },
     "execution_count": 201,
     "metadata": {},
     "output_type": "execute_result"
    }
   ],
   "source": [
    "# Drop columns that are less important\n",
    "df1.drop(['WHOREGION', 'ITZ', 'ORIGIN_SOURCE','COUNTRY_CODE','ISO_WEEK', 'ISO_SDATE','SPEC_RECEIVED_NB', 'SPEC_PROCESSED_NB', 'ILI_ACTIVITY'], axis=1, inplace=True)\n",
    "df1.columns"
   ]
  },
  {
   "cell_type": "code",
   "execution_count": 202,
   "id": "305219bc",
   "metadata": {},
   "outputs": [
    {
     "data": {
      "text/plain": [
       "COUNTRY/AREA/TERRITORY      0\n",
       "ISO_YEAR                    0\n",
       "AH1                       616\n",
       "AH1N12009                 124\n",
       "AH3                        45\n",
       "AH5                       350\n",
       "ANOTSUBTYPED              239\n",
       "INF_A                      20\n",
       "BVIC                      166\n",
       "BYAM                      224\n",
       "BNOTDETERMINED            196\n",
       "INF_B                      41\n",
       "INF_ALL                    10\n",
       "INF_NEGATIVE              285\n",
       "dtype: int64"
      ]
     },
     "execution_count": 202,
     "metadata": {},
     "output_type": "execute_result"
    }
   ],
   "source": [
    "# Check if there are missing values\n",
    "df1.isna().sum()"
   ]
  },
  {
   "cell_type": "code",
   "execution_count": 203,
   "id": "9a05e9ba",
   "metadata": {},
   "outputs": [
    {
     "data": {
      "text/plain": [
       "COUNTRY/AREA/TERRITORY    0\n",
       "ISO_YEAR                  0\n",
       "AH1                       0\n",
       "AH1N12009                 0\n",
       "AH3                       0\n",
       "AH5                       0\n",
       "ANOTSUBTYPED              0\n",
       "INF_A                     0\n",
       "BVIC                      0\n",
       "BYAM                      0\n",
       "BNOTDETERMINED            0\n",
       "INF_B                     0\n",
       "INF_ALL                   0\n",
       "INF_NEGATIVE              0\n",
       "dtype: int64"
      ]
     },
     "execution_count": 203,
     "metadata": {},
     "output_type": "execute_result"
    }
   ],
   "source": [
    "# Fill in the gaps with '0' and check for missing values\n",
    "df1 = df1.fillna(0)\n",
    "df1.isna().sum()"
   ]
  },
  {
   "cell_type": "code",
   "execution_count": 204,
   "id": "37efb66a",
   "metadata": {},
   "outputs": [],
   "source": [
    "# create a bar chart with the countries with the most events\n",
    "def influenza_cases_2122(df):\n",
    "    \n",
    "    # definir países como índice\n",
    "    df1_most = df1.set_index(\"COUNTRY/AREA/TERRITORY\")\n",
    "    \n",
    "    # conterá os gráficos a serem exibidos\n",
    "    item_list = []\n",
    "    \n",
    "    # inverter a lista para ter 2017 primeiro\n",
    "    for col in df1_most.columns.tolist()[::-1]:\n",
    "        # ordenar df\n",
    "        df1_int = df1_most.sort_values(col, ascending=False).head(10)\n",
    "        # criar o gráfico\n",
    "        item = dict(args=[{\"x\" : [df1_int.index], \"y\" : [df1_int[col]] }, # set x and y axis\n",
    "                         {\"title\" : \"Countries with the most \" + col} # set title\n",
    "                         ],\n",
    "                         label=col, method=\"update\") #label = name of the button\n",
    "                                                     #method=\"update\" will modify data and layout\n",
    "        item_list.append(item)\n",
    "    \n",
    "    # crie o primeiro gráfico para que corresponda ao primeiro valor do nosso menu\n",
    "    firstviz = df1_most.sort_values(df1_most.columns.tolist()[::-1][0], ascending=False).head(10)\n",
    "    \n",
    "    fig = px.bar(firstviz, x=firstviz.index, y=firstviz.columns.tolist()[::-1][0],\n",
    "                 color_discrete_sequence=[\"#020202\"],\n",
    "                 text_auto=True,\n",
    "                 title=\"Countries with the most \" + df1_most.columns.tolist()[::-1][0])\n",
    "    # título centralizado\n",
    "    fig.update_layout(title_x=0.5)\n",
    "\n",
    "    # criar menu\n",
    "    fig.update_layout(\n",
    "            updatemenus=[\n",
    "                # lista de itens = lista dos gráficos !\n",
    "                dict(buttons=list(item_list),  \n",
    "\n",
    "                 # lugar do menu suspenso\n",
    "                direction=\"down\",showactive=True,x=0.005,\n",
    "                xanchor=\"left\",y=1.4,yanchor=\"top\") ] )\n",
    "    \n",
    "    return fig.show()"
   ]
  },
  {
   "cell_type": "code",
   "execution_count": 192,
   "id": "27b3ecbe",
   "metadata": {
    "scrolled": true
   },
   "outputs": [
    {
     "data": {
      "application/vnd.plotly.v1+json": {
       "config": {
        "plotlyServerURL": "https://plot.ly"
       },
       "data": [
        {
         "alignmentgroup": "True",
         "hovertemplate": "COUNTRY/AREA/TERRITORY=%{x}<br>INF_NEGATIVE=%{y}<extra></extra>",
         "legendgroup": "",
         "marker": {
          "color": "#020202",
          "pattern": {
           "shape": ""
          }
         },
         "name": "",
         "offsetgroup": "",
         "orientation": "v",
         "showlegend": false,
         "textposition": "auto",
         "texttemplate": "%{y}",
         "type": "bar",
         "x": [
          "Australia",
          "Australia",
          "Australia",
          "Australia",
          "Australia",
          "Australia",
          "Australia",
          "Australia",
          "Australia",
          "Australia"
         ],
         "xaxis": "x",
         "y": [
          8419,
          8184,
          7827,
          7741,
          7664,
          7545,
          7532,
          7371,
          7323,
          6835
         ],
         "yaxis": "y"
        }
       ],
       "layout": {
        "barmode": "relative",
        "legend": {
         "tracegroupgap": 0
        },
        "template": {
         "data": {
          "bar": [
           {
            "error_x": {
             "color": "#2a3f5f"
            },
            "error_y": {
             "color": "#2a3f5f"
            },
            "marker": {
             "line": {
              "color": "#E5ECF6",
              "width": 0.5
             },
             "pattern": {
              "fillmode": "overlay",
              "size": 10,
              "solidity": 0.2
             }
            },
            "type": "bar"
           }
          ],
          "barpolar": [
           {
            "marker": {
             "line": {
              "color": "#E5ECF6",
              "width": 0.5
             },
             "pattern": {
              "fillmode": "overlay",
              "size": 10,
              "solidity": 0.2
             }
            },
            "type": "barpolar"
           }
          ],
          "carpet": [
           {
            "aaxis": {
             "endlinecolor": "#2a3f5f",
             "gridcolor": "white",
             "linecolor": "white",
             "minorgridcolor": "white",
             "startlinecolor": "#2a3f5f"
            },
            "baxis": {
             "endlinecolor": "#2a3f5f",
             "gridcolor": "white",
             "linecolor": "white",
             "minorgridcolor": "white",
             "startlinecolor": "#2a3f5f"
            },
            "type": "carpet"
           }
          ],
          "choropleth": [
           {
            "colorbar": {
             "outlinewidth": 0,
             "ticks": ""
            },
            "type": "choropleth"
           }
          ],
          "contour": [
           {
            "colorbar": {
             "outlinewidth": 0,
             "ticks": ""
            },
            "colorscale": [
             [
              0,
              "#0d0887"
             ],
             [
              0.1111111111111111,
              "#46039f"
             ],
             [
              0.2222222222222222,
              "#7201a8"
             ],
             [
              0.3333333333333333,
              "#9c179e"
             ],
             [
              0.4444444444444444,
              "#bd3786"
             ],
             [
              0.5555555555555556,
              "#d8576b"
             ],
             [
              0.6666666666666666,
              "#ed7953"
             ],
             [
              0.7777777777777778,
              "#fb9f3a"
             ],
             [
              0.8888888888888888,
              "#fdca26"
             ],
             [
              1,
              "#f0f921"
             ]
            ],
            "type": "contour"
           }
          ],
          "contourcarpet": [
           {
            "colorbar": {
             "outlinewidth": 0,
             "ticks": ""
            },
            "type": "contourcarpet"
           }
          ],
          "heatmap": [
           {
            "colorbar": {
             "outlinewidth": 0,
             "ticks": ""
            },
            "colorscale": [
             [
              0,
              "#0d0887"
             ],
             [
              0.1111111111111111,
              "#46039f"
             ],
             [
              0.2222222222222222,
              "#7201a8"
             ],
             [
              0.3333333333333333,
              "#9c179e"
             ],
             [
              0.4444444444444444,
              "#bd3786"
             ],
             [
              0.5555555555555556,
              "#d8576b"
             ],
             [
              0.6666666666666666,
              "#ed7953"
             ],
             [
              0.7777777777777778,
              "#fb9f3a"
             ],
             [
              0.8888888888888888,
              "#fdca26"
             ],
             [
              1,
              "#f0f921"
             ]
            ],
            "type": "heatmap"
           }
          ],
          "heatmapgl": [
           {
            "colorbar": {
             "outlinewidth": 0,
             "ticks": ""
            },
            "colorscale": [
             [
              0,
              "#0d0887"
             ],
             [
              0.1111111111111111,
              "#46039f"
             ],
             [
              0.2222222222222222,
              "#7201a8"
             ],
             [
              0.3333333333333333,
              "#9c179e"
             ],
             [
              0.4444444444444444,
              "#bd3786"
             ],
             [
              0.5555555555555556,
              "#d8576b"
             ],
             [
              0.6666666666666666,
              "#ed7953"
             ],
             [
              0.7777777777777778,
              "#fb9f3a"
             ],
             [
              0.8888888888888888,
              "#fdca26"
             ],
             [
              1,
              "#f0f921"
             ]
            ],
            "type": "heatmapgl"
           }
          ],
          "histogram": [
           {
            "marker": {
             "pattern": {
              "fillmode": "overlay",
              "size": 10,
              "solidity": 0.2
             }
            },
            "type": "histogram"
           }
          ],
          "histogram2d": [
           {
            "colorbar": {
             "outlinewidth": 0,
             "ticks": ""
            },
            "colorscale": [
             [
              0,
              "#0d0887"
             ],
             [
              0.1111111111111111,
              "#46039f"
             ],
             [
              0.2222222222222222,
              "#7201a8"
             ],
             [
              0.3333333333333333,
              "#9c179e"
             ],
             [
              0.4444444444444444,
              "#bd3786"
             ],
             [
              0.5555555555555556,
              "#d8576b"
             ],
             [
              0.6666666666666666,
              "#ed7953"
             ],
             [
              0.7777777777777778,
              "#fb9f3a"
             ],
             [
              0.8888888888888888,
              "#fdca26"
             ],
             [
              1,
              "#f0f921"
             ]
            ],
            "type": "histogram2d"
           }
          ],
          "histogram2dcontour": [
           {
            "colorbar": {
             "outlinewidth": 0,
             "ticks": ""
            },
            "colorscale": [
             [
              0,
              "#0d0887"
             ],
             [
              0.1111111111111111,
              "#46039f"
             ],
             [
              0.2222222222222222,
              "#7201a8"
             ],
             [
              0.3333333333333333,
              "#9c179e"
             ],
             [
              0.4444444444444444,
              "#bd3786"
             ],
             [
              0.5555555555555556,
              "#d8576b"
             ],
             [
              0.6666666666666666,
              "#ed7953"
             ],
             [
              0.7777777777777778,
              "#fb9f3a"
             ],
             [
              0.8888888888888888,
              "#fdca26"
             ],
             [
              1,
              "#f0f921"
             ]
            ],
            "type": "histogram2dcontour"
           }
          ],
          "mesh3d": [
           {
            "colorbar": {
             "outlinewidth": 0,
             "ticks": ""
            },
            "type": "mesh3d"
           }
          ],
          "parcoords": [
           {
            "line": {
             "colorbar": {
              "outlinewidth": 0,
              "ticks": ""
             }
            },
            "type": "parcoords"
           }
          ],
          "pie": [
           {
            "automargin": true,
            "type": "pie"
           }
          ],
          "scatter": [
           {
            "fillpattern": {
             "fillmode": "overlay",
             "size": 10,
             "solidity": 0.2
            },
            "type": "scatter"
           }
          ],
          "scatter3d": [
           {
            "line": {
             "colorbar": {
              "outlinewidth": 0,
              "ticks": ""
             }
            },
            "marker": {
             "colorbar": {
              "outlinewidth": 0,
              "ticks": ""
             }
            },
            "type": "scatter3d"
           }
          ],
          "scattercarpet": [
           {
            "marker": {
             "colorbar": {
              "outlinewidth": 0,
              "ticks": ""
             }
            },
            "type": "scattercarpet"
           }
          ],
          "scattergeo": [
           {
            "marker": {
             "colorbar": {
              "outlinewidth": 0,
              "ticks": ""
             }
            },
            "type": "scattergeo"
           }
          ],
          "scattergl": [
           {
            "marker": {
             "colorbar": {
              "outlinewidth": 0,
              "ticks": ""
             }
            },
            "type": "scattergl"
           }
          ],
          "scattermapbox": [
           {
            "marker": {
             "colorbar": {
              "outlinewidth": 0,
              "ticks": ""
             }
            },
            "type": "scattermapbox"
           }
          ],
          "scatterpolar": [
           {
            "marker": {
             "colorbar": {
              "outlinewidth": 0,
              "ticks": ""
             }
            },
            "type": "scatterpolar"
           }
          ],
          "scatterpolargl": [
           {
            "marker": {
             "colorbar": {
              "outlinewidth": 0,
              "ticks": ""
             }
            },
            "type": "scatterpolargl"
           }
          ],
          "scatterternary": [
           {
            "marker": {
             "colorbar": {
              "outlinewidth": 0,
              "ticks": ""
             }
            },
            "type": "scatterternary"
           }
          ],
          "surface": [
           {
            "colorbar": {
             "outlinewidth": 0,
             "ticks": ""
            },
            "colorscale": [
             [
              0,
              "#0d0887"
             ],
             [
              0.1111111111111111,
              "#46039f"
             ],
             [
              0.2222222222222222,
              "#7201a8"
             ],
             [
              0.3333333333333333,
              "#9c179e"
             ],
             [
              0.4444444444444444,
              "#bd3786"
             ],
             [
              0.5555555555555556,
              "#d8576b"
             ],
             [
              0.6666666666666666,
              "#ed7953"
             ],
             [
              0.7777777777777778,
              "#fb9f3a"
             ],
             [
              0.8888888888888888,
              "#fdca26"
             ],
             [
              1,
              "#f0f921"
             ]
            ],
            "type": "surface"
           }
          ],
          "table": [
           {
            "cells": {
             "fill": {
              "color": "#EBF0F8"
             },
             "line": {
              "color": "white"
             }
            },
            "header": {
             "fill": {
              "color": "#C8D4E3"
             },
             "line": {
              "color": "white"
             }
            },
            "type": "table"
           }
          ]
         },
         "layout": {
          "annotationdefaults": {
           "arrowcolor": "#2a3f5f",
           "arrowhead": 0,
           "arrowwidth": 1
          },
          "autotypenumbers": "strict",
          "coloraxis": {
           "colorbar": {
            "outlinewidth": 0,
            "ticks": ""
           }
          },
          "colorscale": {
           "diverging": [
            [
             0,
             "#8e0152"
            ],
            [
             0.1,
             "#c51b7d"
            ],
            [
             0.2,
             "#de77ae"
            ],
            [
             0.3,
             "#f1b6da"
            ],
            [
             0.4,
             "#fde0ef"
            ],
            [
             0.5,
             "#f7f7f7"
            ],
            [
             0.6,
             "#e6f5d0"
            ],
            [
             0.7,
             "#b8e186"
            ],
            [
             0.8,
             "#7fbc41"
            ],
            [
             0.9,
             "#4d9221"
            ],
            [
             1,
             "#276419"
            ]
           ],
           "sequential": [
            [
             0,
             "#0d0887"
            ],
            [
             0.1111111111111111,
             "#46039f"
            ],
            [
             0.2222222222222222,
             "#7201a8"
            ],
            [
             0.3333333333333333,
             "#9c179e"
            ],
            [
             0.4444444444444444,
             "#bd3786"
            ],
            [
             0.5555555555555556,
             "#d8576b"
            ],
            [
             0.6666666666666666,
             "#ed7953"
            ],
            [
             0.7777777777777778,
             "#fb9f3a"
            ],
            [
             0.8888888888888888,
             "#fdca26"
            ],
            [
             1,
             "#f0f921"
            ]
           ],
           "sequentialminus": [
            [
             0,
             "#0d0887"
            ],
            [
             0.1111111111111111,
             "#46039f"
            ],
            [
             0.2222222222222222,
             "#7201a8"
            ],
            [
             0.3333333333333333,
             "#9c179e"
            ],
            [
             0.4444444444444444,
             "#bd3786"
            ],
            [
             0.5555555555555556,
             "#d8576b"
            ],
            [
             0.6666666666666666,
             "#ed7953"
            ],
            [
             0.7777777777777778,
             "#fb9f3a"
            ],
            [
             0.8888888888888888,
             "#fdca26"
            ],
            [
             1,
             "#f0f921"
            ]
           ]
          },
          "colorway": [
           "#636efa",
           "#EF553B",
           "#00cc96",
           "#ab63fa",
           "#FFA15A",
           "#19d3f3",
           "#FF6692",
           "#B6E880",
           "#FF97FF",
           "#FECB52"
          ],
          "font": {
           "color": "#2a3f5f"
          },
          "geo": {
           "bgcolor": "white",
           "lakecolor": "white",
           "landcolor": "#E5ECF6",
           "showlakes": true,
           "showland": true,
           "subunitcolor": "white"
          },
          "hoverlabel": {
           "align": "left"
          },
          "hovermode": "closest",
          "mapbox": {
           "style": "light"
          },
          "paper_bgcolor": "white",
          "plot_bgcolor": "#E5ECF6",
          "polar": {
           "angularaxis": {
            "gridcolor": "white",
            "linecolor": "white",
            "ticks": ""
           },
           "bgcolor": "#E5ECF6",
           "radialaxis": {
            "gridcolor": "white",
            "linecolor": "white",
            "ticks": ""
           }
          },
          "scene": {
           "xaxis": {
            "backgroundcolor": "#E5ECF6",
            "gridcolor": "white",
            "gridwidth": 2,
            "linecolor": "white",
            "showbackground": true,
            "ticks": "",
            "zerolinecolor": "white"
           },
           "yaxis": {
            "backgroundcolor": "#E5ECF6",
            "gridcolor": "white",
            "gridwidth": 2,
            "linecolor": "white",
            "showbackground": true,
            "ticks": "",
            "zerolinecolor": "white"
           },
           "zaxis": {
            "backgroundcolor": "#E5ECF6",
            "gridcolor": "white",
            "gridwidth": 2,
            "linecolor": "white",
            "showbackground": true,
            "ticks": "",
            "zerolinecolor": "white"
           }
          },
          "shapedefaults": {
           "line": {
            "color": "#2a3f5f"
           }
          },
          "ternary": {
           "aaxis": {
            "gridcolor": "white",
            "linecolor": "white",
            "ticks": ""
           },
           "baxis": {
            "gridcolor": "white",
            "linecolor": "white",
            "ticks": ""
           },
           "bgcolor": "#E5ECF6",
           "caxis": {
            "gridcolor": "white",
            "linecolor": "white",
            "ticks": ""
           }
          },
          "title": {
           "x": 0.05
          },
          "xaxis": {
           "automargin": true,
           "gridcolor": "white",
           "linecolor": "white",
           "ticks": "",
           "title": {
            "standoff": 15
           },
           "zerolinecolor": "white",
           "zerolinewidth": 2
          },
          "yaxis": {
           "automargin": true,
           "gridcolor": "white",
           "linecolor": "white",
           "ticks": "",
           "title": {
            "standoff": 15
           },
           "zerolinecolor": "white",
           "zerolinewidth": 2
          }
         }
        },
        "title": {
         "text": "Countries with the most INF_NEGATIVE",
         "x": 0.5
        },
        "updatemenus": [
         {
          "buttons": [
           {
            "args": [
             {
              "x": [
               [
                "Australia",
                "Australia",
                "Australia",
                "Australia",
                "Australia",
                "Australia",
                "Australia",
                "Australia",
                "Australia",
                "Australia"
               ]
              ],
              "y": [
               [
                8419,
                8184,
                7827,
                7741,
                7664,
                7545,
                7532,
                7371,
                7323,
                6835
               ]
              ]
             },
             {
              "title": "Countries with the most INF_NEGATIVE"
             }
            ],
            "label": "INF_NEGATIVE",
            "method": "update"
           },
           {
            "args": [
             {
              "x": [
               [
                "China",
                "China",
                "China",
                "China",
                "China",
                "China",
                "China",
                "China",
                "China",
                "China"
               ]
              ],
              "y": [
               [
                3209,
                3159,
                2945,
                2820,
                2606,
                2398,
                2336,
                2288,
                2111,
                2079
               ]
              ]
             },
             {
              "title": "Countries with the most INF_ALL"
             }
            ],
            "label": "INF_ALL",
            "method": "update"
           },
           {
            "args": [
             {
              "x": [
               [
                "China",
                "China",
                "China",
                "China",
                "China",
                "China",
                "China",
                "China",
                "China",
                "China"
               ]
              ],
              "y": [
               [
                3208,
                3157,
                2938,
                2820,
                2599,
                2398,
                2335,
                2285,
                2082,
                2076
               ]
              ]
             },
             {
              "title": "Countries with the most INF_B"
             }
            ],
            "label": "INF_B",
            "method": "update"
           },
           {
            "args": [
             {
              "x": [
               [
                "Malaysia",
                "Malaysia",
                "Malaysia",
                "Malaysia",
                "Malaysia",
                "Malaysia",
                "China",
                "Malaysia",
                "Malaysia",
                "China"
               ]
              ],
              "y": [
               [
                120,
                116,
                111,
                77,
                50,
                37,
                31,
                26,
                23,
                22
               ]
              ]
             },
             {
              "title": "Countries with the most BNOTDETERMINED"
             }
            ],
            "label": "BNOTDETERMINED",
            "method": "update"
           },
           {
            "args": [
             {
              "x": [
               [
                "China",
                "Republic of Korea",
                "Australia",
                "Mongolia",
                "Mongolia",
                "Mongolia",
                "Mongolia",
                "Mongolia",
                "Mongolia",
                "Mongolia"
               ]
              ],
              "y": [
               [
                2,
                1,
                0,
                0,
                0,
                0,
                0,
                0,
                0,
                0
               ]
              ]
             },
             {
              "title": "Countries with the most BYAM"
             }
            ],
            "label": "BYAM",
            "method": "update"
           },
           {
            "args": [
             {
              "x": [
               [
                "China",
                "China",
                "China",
                "China",
                "China",
                "China",
                "China",
                "China",
                "China",
                "China"
               ]
              ],
              "y": [
               [
                3197,
                3126,
                2936,
                2812,
                2594,
                2389,
                2317,
                2276,
                2067,
                2063
               ]
              ]
             },
             {
              "title": "Countries with the most BVIC"
             }
            ],
            "label": "BVIC",
            "method": "update"
           },
           {
            "args": [
             {
              "x": [
               [
                "China",
                "China",
                "China",
                "China",
                "China",
                "Australia",
                "China",
                "China",
                "China",
                "Australia"
               ]
              ],
              "y": [
               [
                1901,
                1837,
                1764,
                1756,
                1584,
                1455,
                1452,
                1394,
                1393,
                1382
               ]
              ]
             },
             {
              "title": "Countries with the most INF_A"
             }
            ],
            "label": "INF_A",
            "method": "update"
           },
           {
            "args": [
             {
              "x": [
               [
                "Australia",
                "Australia",
                "Australia",
                "Australia",
                "Australia",
                "Australia",
                "Australia",
                "Australia",
                "Australia",
                "Australia"
               ]
              ],
              "y": [
               [
                1083,
                998,
                952,
                863,
                663,
                648,
                578,
                495,
                491,
                276
               ]
              ]
             },
             {
              "title": "Countries with the most ANOTSUBTYPED"
             }
            ],
            "label": "ANOTSUBTYPED",
            "method": "update"
           },
           {
            "args": [
             {
              "x": [
               [
                "Australia",
                "Philippines",
                "Mongolia",
                "Mongolia",
                "Mongolia",
                "Mongolia",
                "Mongolia",
                "Mongolia",
                "Mongolia",
                "Mongolia"
               ]
              ],
              "y": [
               [
                0,
                0,
                0,
                0,
                0,
                0,
                0,
                0,
                0,
                0
               ]
              ]
             },
             {
              "title": "Countries with the most AH5"
             }
            ],
            "label": "AH5",
            "method": "update"
           },
           {
            "args": [
             {
              "x": [
               [
                "China",
                "China",
                "China",
                "China",
                "China",
                "China",
                "China",
                "China",
                "China",
                "China"
               ]
              ],
              "y": [
               [
                1901,
                1837,
                1764,
                1756,
                1584,
                1452,
                1394,
                1393,
                1331,
                1130
               ]
              ]
             },
             {
              "title": "Countries with the most AH3"
             }
            ],
            "label": "AH3",
            "method": "update"
           },
           {
            "args": [
             {
              "x": [
               [
                "Australia",
                "Australia",
                "Australia",
                "Australia",
                "Australia",
                "Australia",
                "Australia",
                "Australia",
                "Australia",
                "Australia"
               ]
              ],
              "y": [
               [
                39,
                28,
                24,
                19,
                17,
                16,
                14,
                11,
                11,
                10
               ]
              ]
             },
             {
              "title": "Countries with the most AH1N12009"
             }
            ],
            "label": "AH1N12009",
            "method": "update"
           },
           {
            "args": [
             {
              "x": [
               [
                "Mongolia",
                "Australia",
                "Mongolia",
                "Mongolia",
                "Mongolia",
                "Mongolia",
                "Mongolia",
                "Mongolia",
                "Mongolia",
                "Mongolia"
               ]
              ],
              "y": [
               [
                1,
                0,
                0,
                0,
                0,
                0,
                0,
                0,
                0,
                0
               ]
              ]
             },
             {
              "title": "Countries with the most AH1"
             }
            ],
            "label": "AH1",
            "method": "update"
           },
           {
            "args": [
             {
              "x": [
               [
                "Viet Nam",
                "Lao People's Democratic Republic",
                "Lao People's Democratic Republic",
                "Lao People's Democratic Republic",
                "Lao People's Democratic Republic",
                "Lao People's Democratic Republic",
                "Lao People's Democratic Republic",
                "Lao People's Democratic Republic",
                "Lao People's Democratic Republic",
                "Lao People's Democratic Republic"
               ]
              ],
              "y": [
               [
                2022,
                2022,
                2022,
                2022,
                2022,
                2022,
                2022,
                2022,
                2022,
                2022
               ]
              ]
             },
             {
              "title": "Countries with the most ISO_YEAR"
             }
            ],
            "label": "ISO_YEAR",
            "method": "update"
           }
          ],
          "direction": "down",
          "showactive": true,
          "x": 0.005,
          "xanchor": "left",
          "y": 1.4,
          "yanchor": "top"
         }
        ],
        "xaxis": {
         "anchor": "y",
         "domain": [
          0,
          1
         ],
         "title": {
          "text": "COUNTRY/AREA/TERRITORY"
         }
        },
        "yaxis": {
         "anchor": "x",
         "domain": [
          0,
          1
         ],
         "title": {
          "text": "INF_NEGATIVE"
         }
        }
       }
      },
      "text/html": [
       "<div>                            <div id=\"d43f43bf-9ea6-4d6c-b6c7-d859758e54ed\" class=\"plotly-graph-div\" style=\"height:525px; width:100%;\"></div>            <script type=\"text/javascript\">                require([\"plotly\"], function(Plotly) {                    window.PLOTLYENV=window.PLOTLYENV || {};                                    if (document.getElementById(\"d43f43bf-9ea6-4d6c-b6c7-d859758e54ed\")) {                    Plotly.newPlot(                        \"d43f43bf-9ea6-4d6c-b6c7-d859758e54ed\",                        [{\"alignmentgroup\":\"True\",\"hovertemplate\":\"COUNTRY/AREA/TERRITORY=%{x}<br>INF_NEGATIVE=%{y}<extra></extra>\",\"legendgroup\":\"\",\"marker\":{\"color\":\"#020202\",\"pattern\":{\"shape\":\"\"}},\"name\":\"\",\"offsetgroup\":\"\",\"orientation\":\"v\",\"showlegend\":false,\"textposition\":\"auto\",\"texttemplate\":\"%{y}\",\"x\":[\"Australia\",\"Australia\",\"Australia\",\"Australia\",\"Australia\",\"Australia\",\"Australia\",\"Australia\",\"Australia\",\"Australia\"],\"xaxis\":\"x\",\"y\":[8419.0,8184.0,7827.0,7741.0,7664.0,7545.0,7532.0,7371.0,7323.0,6835.0],\"yaxis\":\"y\",\"type\":\"bar\"}],                        {\"template\":{\"data\":{\"histogram2dcontour\":[{\"type\":\"histogram2dcontour\",\"colorbar\":{\"outlinewidth\":0,\"ticks\":\"\"},\"colorscale\":[[0.0,\"#0d0887\"],[0.1111111111111111,\"#46039f\"],[0.2222222222222222,\"#7201a8\"],[0.3333333333333333,\"#9c179e\"],[0.4444444444444444,\"#bd3786\"],[0.5555555555555556,\"#d8576b\"],[0.6666666666666666,\"#ed7953\"],[0.7777777777777778,\"#fb9f3a\"],[0.8888888888888888,\"#fdca26\"],[1.0,\"#f0f921\"]]}],\"choropleth\":[{\"type\":\"choropleth\",\"colorbar\":{\"outlinewidth\":0,\"ticks\":\"\"}}],\"histogram2d\":[{\"type\":\"histogram2d\",\"colorbar\":{\"outlinewidth\":0,\"ticks\":\"\"},\"colorscale\":[[0.0,\"#0d0887\"],[0.1111111111111111,\"#46039f\"],[0.2222222222222222,\"#7201a8\"],[0.3333333333333333,\"#9c179e\"],[0.4444444444444444,\"#bd3786\"],[0.5555555555555556,\"#d8576b\"],[0.6666666666666666,\"#ed7953\"],[0.7777777777777778,\"#fb9f3a\"],[0.8888888888888888,\"#fdca26\"],[1.0,\"#f0f921\"]]}],\"heatmap\":[{\"type\":\"heatmap\",\"colorbar\":{\"outlinewidth\":0,\"ticks\":\"\"},\"colorscale\":[[0.0,\"#0d0887\"],[0.1111111111111111,\"#46039f\"],[0.2222222222222222,\"#7201a8\"],[0.3333333333333333,\"#9c179e\"],[0.4444444444444444,\"#bd3786\"],[0.5555555555555556,\"#d8576b\"],[0.6666666666666666,\"#ed7953\"],[0.7777777777777778,\"#fb9f3a\"],[0.8888888888888888,\"#fdca26\"],[1.0,\"#f0f921\"]]}],\"heatmapgl\":[{\"type\":\"heatmapgl\",\"colorbar\":{\"outlinewidth\":0,\"ticks\":\"\"},\"colorscale\":[[0.0,\"#0d0887\"],[0.1111111111111111,\"#46039f\"],[0.2222222222222222,\"#7201a8\"],[0.3333333333333333,\"#9c179e\"],[0.4444444444444444,\"#bd3786\"],[0.5555555555555556,\"#d8576b\"],[0.6666666666666666,\"#ed7953\"],[0.7777777777777778,\"#fb9f3a\"],[0.8888888888888888,\"#fdca26\"],[1.0,\"#f0f921\"]]}],\"contourcarpet\":[{\"type\":\"contourcarpet\",\"colorbar\":{\"outlinewidth\":0,\"ticks\":\"\"}}],\"contour\":[{\"type\":\"contour\",\"colorbar\":{\"outlinewidth\":0,\"ticks\":\"\"},\"colorscale\":[[0.0,\"#0d0887\"],[0.1111111111111111,\"#46039f\"],[0.2222222222222222,\"#7201a8\"],[0.3333333333333333,\"#9c179e\"],[0.4444444444444444,\"#bd3786\"],[0.5555555555555556,\"#d8576b\"],[0.6666666666666666,\"#ed7953\"],[0.7777777777777778,\"#fb9f3a\"],[0.8888888888888888,\"#fdca26\"],[1.0,\"#f0f921\"]]}],\"surface\":[{\"type\":\"surface\",\"colorbar\":{\"outlinewidth\":0,\"ticks\":\"\"},\"colorscale\":[[0.0,\"#0d0887\"],[0.1111111111111111,\"#46039f\"],[0.2222222222222222,\"#7201a8\"],[0.3333333333333333,\"#9c179e\"],[0.4444444444444444,\"#bd3786\"],[0.5555555555555556,\"#d8576b\"],[0.6666666666666666,\"#ed7953\"],[0.7777777777777778,\"#fb9f3a\"],[0.8888888888888888,\"#fdca26\"],[1.0,\"#f0f921\"]]}],\"mesh3d\":[{\"type\":\"mesh3d\",\"colorbar\":{\"outlinewidth\":0,\"ticks\":\"\"}}],\"scatter\":[{\"fillpattern\":{\"fillmode\":\"overlay\",\"size\":10,\"solidity\":0.2},\"type\":\"scatter\"}],\"parcoords\":[{\"type\":\"parcoords\",\"line\":{\"colorbar\":{\"outlinewidth\":0,\"ticks\":\"\"}}}],\"scatterpolargl\":[{\"type\":\"scatterpolargl\",\"marker\":{\"colorbar\":{\"outlinewidth\":0,\"ticks\":\"\"}}}],\"bar\":[{\"error_x\":{\"color\":\"#2a3f5f\"},\"error_y\":{\"color\":\"#2a3f5f\"},\"marker\":{\"line\":{\"color\":\"#E5ECF6\",\"width\":0.5},\"pattern\":{\"fillmode\":\"overlay\",\"size\":10,\"solidity\":0.2}},\"type\":\"bar\"}],\"scattergeo\":[{\"type\":\"scattergeo\",\"marker\":{\"colorbar\":{\"outlinewidth\":0,\"ticks\":\"\"}}}],\"scatterpolar\":[{\"type\":\"scatterpolar\",\"marker\":{\"colorbar\":{\"outlinewidth\":0,\"ticks\":\"\"}}}],\"histogram\":[{\"marker\":{\"pattern\":{\"fillmode\":\"overlay\",\"size\":10,\"solidity\":0.2}},\"type\":\"histogram\"}],\"scattergl\":[{\"type\":\"scattergl\",\"marker\":{\"colorbar\":{\"outlinewidth\":0,\"ticks\":\"\"}}}],\"scatter3d\":[{\"type\":\"scatter3d\",\"line\":{\"colorbar\":{\"outlinewidth\":0,\"ticks\":\"\"}},\"marker\":{\"colorbar\":{\"outlinewidth\":0,\"ticks\":\"\"}}}],\"scattermapbox\":[{\"type\":\"scattermapbox\",\"marker\":{\"colorbar\":{\"outlinewidth\":0,\"ticks\":\"\"}}}],\"scatterternary\":[{\"type\":\"scatterternary\",\"marker\":{\"colorbar\":{\"outlinewidth\":0,\"ticks\":\"\"}}}],\"scattercarpet\":[{\"type\":\"scattercarpet\",\"marker\":{\"colorbar\":{\"outlinewidth\":0,\"ticks\":\"\"}}}],\"carpet\":[{\"aaxis\":{\"endlinecolor\":\"#2a3f5f\",\"gridcolor\":\"white\",\"linecolor\":\"white\",\"minorgridcolor\":\"white\",\"startlinecolor\":\"#2a3f5f\"},\"baxis\":{\"endlinecolor\":\"#2a3f5f\",\"gridcolor\":\"white\",\"linecolor\":\"white\",\"minorgridcolor\":\"white\",\"startlinecolor\":\"#2a3f5f\"},\"type\":\"carpet\"}],\"table\":[{\"cells\":{\"fill\":{\"color\":\"#EBF0F8\"},\"line\":{\"color\":\"white\"}},\"header\":{\"fill\":{\"color\":\"#C8D4E3\"},\"line\":{\"color\":\"white\"}},\"type\":\"table\"}],\"barpolar\":[{\"marker\":{\"line\":{\"color\":\"#E5ECF6\",\"width\":0.5},\"pattern\":{\"fillmode\":\"overlay\",\"size\":10,\"solidity\":0.2}},\"type\":\"barpolar\"}],\"pie\":[{\"automargin\":true,\"type\":\"pie\"}]},\"layout\":{\"autotypenumbers\":\"strict\",\"colorway\":[\"#636efa\",\"#EF553B\",\"#00cc96\",\"#ab63fa\",\"#FFA15A\",\"#19d3f3\",\"#FF6692\",\"#B6E880\",\"#FF97FF\",\"#FECB52\"],\"font\":{\"color\":\"#2a3f5f\"},\"hovermode\":\"closest\",\"hoverlabel\":{\"align\":\"left\"},\"paper_bgcolor\":\"white\",\"plot_bgcolor\":\"#E5ECF6\",\"polar\":{\"bgcolor\":\"#E5ECF6\",\"angularaxis\":{\"gridcolor\":\"white\",\"linecolor\":\"white\",\"ticks\":\"\"},\"radialaxis\":{\"gridcolor\":\"white\",\"linecolor\":\"white\",\"ticks\":\"\"}},\"ternary\":{\"bgcolor\":\"#E5ECF6\",\"aaxis\":{\"gridcolor\":\"white\",\"linecolor\":\"white\",\"ticks\":\"\"},\"baxis\":{\"gridcolor\":\"white\",\"linecolor\":\"white\",\"ticks\":\"\"},\"caxis\":{\"gridcolor\":\"white\",\"linecolor\":\"white\",\"ticks\":\"\"}},\"coloraxis\":{\"colorbar\":{\"outlinewidth\":0,\"ticks\":\"\"}},\"colorscale\":{\"sequential\":[[0.0,\"#0d0887\"],[0.1111111111111111,\"#46039f\"],[0.2222222222222222,\"#7201a8\"],[0.3333333333333333,\"#9c179e\"],[0.4444444444444444,\"#bd3786\"],[0.5555555555555556,\"#d8576b\"],[0.6666666666666666,\"#ed7953\"],[0.7777777777777778,\"#fb9f3a\"],[0.8888888888888888,\"#fdca26\"],[1.0,\"#f0f921\"]],\"sequentialminus\":[[0.0,\"#0d0887\"],[0.1111111111111111,\"#46039f\"],[0.2222222222222222,\"#7201a8\"],[0.3333333333333333,\"#9c179e\"],[0.4444444444444444,\"#bd3786\"],[0.5555555555555556,\"#d8576b\"],[0.6666666666666666,\"#ed7953\"],[0.7777777777777778,\"#fb9f3a\"],[0.8888888888888888,\"#fdca26\"],[1.0,\"#f0f921\"]],\"diverging\":[[0,\"#8e0152\"],[0.1,\"#c51b7d\"],[0.2,\"#de77ae\"],[0.3,\"#f1b6da\"],[0.4,\"#fde0ef\"],[0.5,\"#f7f7f7\"],[0.6,\"#e6f5d0\"],[0.7,\"#b8e186\"],[0.8,\"#7fbc41\"],[0.9,\"#4d9221\"],[1,\"#276419\"]]},\"xaxis\":{\"gridcolor\":\"white\",\"linecolor\":\"white\",\"ticks\":\"\",\"title\":{\"standoff\":15},\"zerolinecolor\":\"white\",\"automargin\":true,\"zerolinewidth\":2},\"yaxis\":{\"gridcolor\":\"white\",\"linecolor\":\"white\",\"ticks\":\"\",\"title\":{\"standoff\":15},\"zerolinecolor\":\"white\",\"automargin\":true,\"zerolinewidth\":2},\"scene\":{\"xaxis\":{\"backgroundcolor\":\"#E5ECF6\",\"gridcolor\":\"white\",\"linecolor\":\"white\",\"showbackground\":true,\"ticks\":\"\",\"zerolinecolor\":\"white\",\"gridwidth\":2},\"yaxis\":{\"backgroundcolor\":\"#E5ECF6\",\"gridcolor\":\"white\",\"linecolor\":\"white\",\"showbackground\":true,\"ticks\":\"\",\"zerolinecolor\":\"white\",\"gridwidth\":2},\"zaxis\":{\"backgroundcolor\":\"#E5ECF6\",\"gridcolor\":\"white\",\"linecolor\":\"white\",\"showbackground\":true,\"ticks\":\"\",\"zerolinecolor\":\"white\",\"gridwidth\":2}},\"shapedefaults\":{\"line\":{\"color\":\"#2a3f5f\"}},\"annotationdefaults\":{\"arrowcolor\":\"#2a3f5f\",\"arrowhead\":0,\"arrowwidth\":1},\"geo\":{\"bgcolor\":\"white\",\"landcolor\":\"#E5ECF6\",\"subunitcolor\":\"white\",\"showland\":true,\"showlakes\":true,\"lakecolor\":\"white\"},\"title\":{\"x\":0.05},\"mapbox\":{\"style\":\"light\"}}},\"xaxis\":{\"anchor\":\"y\",\"domain\":[0.0,1.0],\"title\":{\"text\":\"COUNTRY/AREA/TERRITORY\"}},\"yaxis\":{\"anchor\":\"x\",\"domain\":[0.0,1.0],\"title\":{\"text\":\"INF_NEGATIVE\"}},\"legend\":{\"tracegroupgap\":0},\"title\":{\"text\":\"Countries with the most INF_NEGATIVE\",\"x\":0.5},\"barmode\":\"relative\",\"updatemenus\":[{\"buttons\":[{\"args\":[{\"x\":[[\"Australia\",\"Australia\",\"Australia\",\"Australia\",\"Australia\",\"Australia\",\"Australia\",\"Australia\",\"Australia\",\"Australia\"]],\"y\":[[8419.0,8184.0,7827.0,7741.0,7664.0,7545.0,7532.0,7371.0,7323.0,6835.0]]},{\"title\":\"Countries with the most INF_NEGATIVE\"}],\"label\":\"INF_NEGATIVE\",\"method\":\"update\"},{\"args\":[{\"x\":[[\"China\",\"China\",\"China\",\"China\",\"China\",\"China\",\"China\",\"China\",\"China\",\"China\"]],\"y\":[[3209.0,3159.0,2945.0,2820.0,2606.0,2398.0,2336.0,2288.0,2111.0,2079.0]]},{\"title\":\"Countries with the most INF_ALL\"}],\"label\":\"INF_ALL\",\"method\":\"update\"},{\"args\":[{\"x\":[[\"China\",\"China\",\"China\",\"China\",\"China\",\"China\",\"China\",\"China\",\"China\",\"China\"]],\"y\":[[3208.0,3157.0,2938.0,2820.0,2599.0,2398.0,2335.0,2285.0,2082.0,2076.0]]},{\"title\":\"Countries with the most INF_B\"}],\"label\":\"INF_B\",\"method\":\"update\"},{\"args\":[{\"x\":[[\"Malaysia\",\"Malaysia\",\"Malaysia\",\"Malaysia\",\"Malaysia\",\"Malaysia\",\"China\",\"Malaysia\",\"Malaysia\",\"China\"]],\"y\":[[120.0,116.0,111.0,77.0,50.0,37.0,31.0,26.0,23.0,22.0]]},{\"title\":\"Countries with the most BNOTDETERMINED\"}],\"label\":\"BNOTDETERMINED\",\"method\":\"update\"},{\"args\":[{\"x\":[[\"China\",\"Republic of Korea\",\"Australia\",\"Mongolia\",\"Mongolia\",\"Mongolia\",\"Mongolia\",\"Mongolia\",\"Mongolia\",\"Mongolia\"]],\"y\":[[2.0,1.0,0.0,0.0,0.0,0.0,0.0,0.0,0.0,0.0]]},{\"title\":\"Countries with the most BYAM\"}],\"label\":\"BYAM\",\"method\":\"update\"},{\"args\":[{\"x\":[[\"China\",\"China\",\"China\",\"China\",\"China\",\"China\",\"China\",\"China\",\"China\",\"China\"]],\"y\":[[3197.0,3126.0,2936.0,2812.0,2594.0,2389.0,2317.0,2276.0,2067.0,2063.0]]},{\"title\":\"Countries with the most BVIC\"}],\"label\":\"BVIC\",\"method\":\"update\"},{\"args\":[{\"x\":[[\"China\",\"China\",\"China\",\"China\",\"China\",\"Australia\",\"China\",\"China\",\"China\",\"Australia\"]],\"y\":[[1901.0,1837.0,1764.0,1756.0,1584.0,1455.0,1452.0,1394.0,1393.0,1382.0]]},{\"title\":\"Countries with the most INF_A\"}],\"label\":\"INF_A\",\"method\":\"update\"},{\"args\":[{\"x\":[[\"Australia\",\"Australia\",\"Australia\",\"Australia\",\"Australia\",\"Australia\",\"Australia\",\"Australia\",\"Australia\",\"Australia\"]],\"y\":[[1083.0,998.0,952.0,863.0,663.0,648.0,578.0,495.0,491.0,276.0]]},{\"title\":\"Countries with the most ANOTSUBTYPED\"}],\"label\":\"ANOTSUBTYPED\",\"method\":\"update\"},{\"args\":[{\"x\":[[\"Australia\",\"Philippines\",\"Mongolia\",\"Mongolia\",\"Mongolia\",\"Mongolia\",\"Mongolia\",\"Mongolia\",\"Mongolia\",\"Mongolia\"]],\"y\":[[0.0,0.0,0.0,0.0,0.0,0.0,0.0,0.0,0.0,0.0]]},{\"title\":\"Countries with the most AH5\"}],\"label\":\"AH5\",\"method\":\"update\"},{\"args\":[{\"x\":[[\"China\",\"China\",\"China\",\"China\",\"China\",\"China\",\"China\",\"China\",\"China\",\"China\"]],\"y\":[[1901.0,1837.0,1764.0,1756.0,1584.0,1452.0,1394.0,1393.0,1331.0,1130.0]]},{\"title\":\"Countries with the most AH3\"}],\"label\":\"AH3\",\"method\":\"update\"},{\"args\":[{\"x\":[[\"Australia\",\"Australia\",\"Australia\",\"Australia\",\"Australia\",\"Australia\",\"Australia\",\"Australia\",\"Australia\",\"Australia\"]],\"y\":[[39.0,28.0,24.0,19.0,17.0,16.0,14.0,11.0,11.0,10.0]]},{\"title\":\"Countries with the most AH1N12009\"}],\"label\":\"AH1N12009\",\"method\":\"update\"},{\"args\":[{\"x\":[[\"Mongolia\",\"Australia\",\"Mongolia\",\"Mongolia\",\"Mongolia\",\"Mongolia\",\"Mongolia\",\"Mongolia\",\"Mongolia\",\"Mongolia\"]],\"y\":[[1.0,0.0,0.0,0.0,0.0,0.0,0.0,0.0,0.0,0.0]]},{\"title\":\"Countries with the most AH1\"}],\"label\":\"AH1\",\"method\":\"update\"},{\"args\":[{\"x\":[[\"Viet Nam\",\"Lao People's Democratic Republic\",\"Lao People's Democratic Republic\",\"Lao People's Democratic Republic\",\"Lao People's Democratic Republic\",\"Lao People's Democratic Republic\",\"Lao People's Democratic Republic\",\"Lao People's Democratic Republic\",\"Lao People's Democratic Republic\",\"Lao People's Democratic Republic\"]],\"y\":[[2022,2022,2022,2022,2022,2022,2022,2022,2022,2022]]},{\"title\":\"Countries with the most ISO_YEAR\"}],\"label\":\"ISO_YEAR\",\"method\":\"update\"}],\"direction\":\"down\",\"showactive\":true,\"x\":0.005,\"xanchor\":\"left\",\"y\":1.4,\"yanchor\":\"top\"}]},                        {\"responsive\": true}                    ).then(function(){\n",
       "                            \n",
       "var gd = document.getElementById('d43f43bf-9ea6-4d6c-b6c7-d859758e54ed');\n",
       "var x = new MutationObserver(function (mutations, observer) {{\n",
       "        var display = window.getComputedStyle(gd).display;\n",
       "        if (!display || display === 'none') {{\n",
       "            console.log([gd, 'removed!']);\n",
       "            Plotly.purge(gd);\n",
       "            observer.disconnect();\n",
       "        }}\n",
       "}});\n",
       "\n",
       "// Listen for the removal of the full notebook cells\n",
       "var notebookContainer = gd.closest('#notebook-container');\n",
       "if (notebookContainer) {{\n",
       "    x.observe(notebookContainer, {childList: true});\n",
       "}}\n",
       "\n",
       "// Listen for the clearing of the current output cell\n",
       "var outputEl = gd.closest('.output');\n",
       "if (outputEl) {{\n",
       "    x.observe(outputEl, {childList: true});\n",
       "}}\n",
       "\n",
       "                        })                };                });            </script>        </div>"
      ]
     },
     "metadata": {},
     "output_type": "display_data"
    }
   ],
   "source": [
    "influenza_cases_2122(df1)"
   ]
  },
  {
   "cell_type": "code",
   "execution_count": 227,
   "id": "9e799b9f",
   "metadata": {},
   "outputs": [
    {
     "data": {
      "image/png": "[encoded data removed]",
      "text/plain": [
       "<Figure size 432x288 with 1 Axes>"
      ]
     },
     "metadata": {
      "needs_background": "light"
     },
     "output_type": "display_data"
    }
   ],
   "source": [
    "# Group the data by country and sum the values\n",
    "df1_sum = df1.groupby('COUNTRY/AREA/TERRITORY')['INF_ALL'].sum()\n",
    "\n",
    "# Convert pandas core series to pandas dataframe\n",
    "df01 = df1_sum.to_frame()\n",
    "\n",
    "# Drop rows where INF_ALL has a value of 0\n",
    "df01.drop(df01[df01['INF_ALL'] == 0].index, inplace=True)\n",
    "df01.plot(kind='bar');"
   ]
  },
  {
   "cell_type": "code",
   "execution_count": 228,
   "id": "c2bd1337",
   "metadata": {},
   "outputs": [
    {
     "data": {
      "image/png": "[encoded data removed]",
      "text/plain": [
       "<Figure size 432x288 with 1 Axes>"
      ]
     },
     "metadata": {
      "needs_background": "light"
     },
     "output_type": "display_data"
    }
   ],
   "source": [
    "# Group the data by country and sum the values oh AH1\n",
    "df2_sum = df1.groupby('COUNTRY/AREA/TERRITORY')['AH1'].sum()\n",
    "df2_sum\n",
    "\n",
    "# Convert pandas core series to pandas dataframe\n",
    "df02 = df2_sum.to_frame()\n",
    "\n",
    "# Drop rows where AH1 has a value of 0\n",
    "df02.drop(df02[df02['AH1'] == 0].index, inplace=True)\n",
    "df02.plot(kind='bar');"
   ]
  },
  {
   "cell_type": "code",
   "execution_count": 229,
   "id": "77583121",
   "metadata": {},
   "outputs": [
    {
     "data": {
      "image/png": "[encoded data removed]",
      "text/plain": [
       "<Figure size 432x288 with 1 Axes>"
      ]
     },
     "metadata": {
      "needs_background": "light"
     },
     "output_type": "display_data"
    }
   ],
   "source": [
    "# Group the data by country and sum the values oh AH1N12009\n",
    "df3_sum = df1.groupby('COUNTRY/AREA/TERRITORY')['AH1N12009'].sum()\n",
    "df3_sum\n",
    "\n",
    "# Convert pandas core series to pandas dataframe\n",
    "df03 = df3_sum.to_frame()\n",
    "\n",
    "# Drop rows where AH1N12009 has a value of 0\n",
    "df03.drop(df03[df03['AH1N12009'] == 0].index, inplace=True)\n",
    "df03.plot(kind='bar');"
   ]
  },
  {
   "cell_type": "code",
   "execution_count": 230,
   "id": "80c8f53f",
   "metadata": {},
   "outputs": [
    {
     "data": {
      "image/png": "[encoded data removed]",
      "text/plain": [
       "<Figure size 432x288 with 1 Axes>"
      ]
     },
     "metadata": {
      "needs_background": "light"
     },
     "output_type": "display_data"
    }
   ],
   "source": [
    "# Group the data by country and sum the values of AH3\n",
    "df4_sum = df1.groupby('COUNTRY/AREA/TERRITORY')['AH3'].sum()\n",
    "df4_sum\n",
    "\n",
    "# Convert pandas core series to pandas dataframe\n",
    "df4 = df4_sum.to_frame()\n",
    "\n",
    "# Drop rows where AH3 has a value of 0\n",
    "df4.drop(df4[df4['AH3'] == 0].index, inplace=True)\n",
    "df4.plot(kind='bar');"
   ]
  },
  {
   "cell_type": "code",
   "execution_count": 218,
   "id": "fd1f3a1e",
   "metadata": {},
   "outputs": [
    {
     "data": {
      "image/png": "[encoded data removed]",
      "text/plain": [
       "<Figure size 432x288 with 1 Axes>"
      ]
     },
     "metadata": {
      "needs_background": "light"
     },
     "output_type": "display_data"
    }
   ],
   "source": [
    "# Group the data by country and sum the values of AH5\n",
    "df5_sum = df1.groupby('COUNTRY/AREA/TERRITORY')['AH5'].sum()\n",
    "df5_sum\n",
    "\n",
    "# Convert pandas core series to pandas dataframe\n",
    "df5 = df5_sum.to_frame()\n",
    "\n",
    "# Drop rows where AH5 has a value of 0\n",
    "#df5.drop(df5[df5['AH5'] == 0].index, inplace=True)\n",
    "df5.plot(kind='bar');"
   ]
  },
  {
   "cell_type": "code",
   "execution_count": 231,
   "id": "1717701c",
   "metadata": {},
   "outputs": [
    {
     "data": {
      "image/png": "[encoded data removed]",
      "text/plain": [
       "<Figure size 432x288 with 1 Axes>"
      ]
     },
     "metadata": {
      "needs_background": "light"
     },
     "output_type": "display_data"
    }
   ],
   "source": [
    "# Group the data by country and sum the values of ANOTSUBTYPED\n",
    "df6_sum = df1.groupby('COUNTRY/AREA/TERRITORY')['ANOTSUBTYPED'].sum()\n",
    "df6_sum\n",
    "\n",
    "# Convert pandas core series to pandas dataframe\n",
    "df06 = df6_sum.to_frame()\n",
    "\n",
    "# Drop rows where ANOTSUBTYPED has a value of 0\n",
    "df06.drop(df06[df06['ANOTSUBTYPED'] == 0].index, inplace=True)\n",
    "df06.plot(kind='bar');"
   ]
  },
  {
   "cell_type": "code",
   "execution_count": 220,
   "id": "728d2b62",
   "metadata": {},
   "outputs": [
    {
     "data": {
      "image/png": "[encoded data removed]",
      "text/plain": [
       "<Figure size 432x288 with 1 Axes>"
      ]
     },
     "metadata": {
      "needs_background": "light"
     },
     "output_type": "display_data"
    }
   ],
   "source": [
    "# Group the data by country and sum the values of INF_A\n",
    "df7_sum = df1.groupby('COUNTRY/AREA/TERRITORY')['INF_A'].sum()\n",
    "df7_sum\n",
    "\n",
    "# Convert pandas core series to pandas dataframe\n",
    "df07 = df7_sum.to_frame()\n",
    "\n",
    "# Drop rows where INF_A has a value of 0\n",
    "df07.drop(df07[df07['INF_A'] == 0].index, inplace=True)\n",
    "df07.plot(kind='bar');"
   ]
  },
  {
   "cell_type": "code",
   "execution_count": 232,
   "id": "6ecaa134",
   "metadata": {},
   "outputs": [
    {
     "data": {
      "image/png": "[encoded data removed]",
      "text/plain": [
       "<Figure size 432x288 with 1 Axes>"
      ]
     },
     "metadata": {
      "needs_background": "light"
     },
     "output_type": "display_data"
    }
   ],
   "source": [
    "# Group the data by country and sum the values of INF_B\n",
    "df8_sum = df1.groupby('COUNTRY/AREA/TERRITORY')['INF_B'].sum()\n",
    "df8_sum\n",
    "\n",
    "# Convert pandas core series to pandas dataframe\n",
    "df08 = df8_sum.to_frame()\n",
    "\n",
    "# Drop rows where INF_B has a value of 0\n",
    "df08.drop(df08[df08['INF_B'] == 0].index, inplace=True)\n",
    "df08.plot(kind='bar');"
   ]
  },
  {
   "cell_type": "code",
   "execution_count": 233,
   "id": "30e0f9b3",
   "metadata": {},
   "outputs": [
    {
     "data": {
      "image/png": "[encoded data removed]",
      "text/plain": [
       "<Figure size 432x288 with 1 Axes>"
      ]
     },
     "metadata": {
      "needs_background": "light"
     },
     "output_type": "display_data"
    }
   ],
   "source": [
    "# Group the data by country and sum the values of INF_NEGATIVE\n",
    "df9_sum = df1.groupby('COUNTRY/AREA/TERRITORY')['INF_NEGATIVE'].sum()\n",
    "df9_sum\n",
    "\n",
    "# Convert pandas core series to pandas dataframe\n",
    "df09 = df9_sum.to_frame()\n",
    "\n",
    "# Drop rows where INF_NEGATIVE has a value of 0\n",
    "df09.drop(df09[df09['INF_NEGATIVE'] == 0].index, inplace=True)\n",
    "df09.plot(kind='bar');"
   ]
  },
  {
   "cell_type": "code",
   "execution_count": 234,
   "id": "6e4703d7",
   "metadata": {},
   "outputs": [
    {
     "data": {
      "image/png": "[encoded data removed]",
      "text/plain": [
       "<Figure size 432x288 with 1 Axes>"
      ]
     },
     "metadata": {
      "needs_background": "light"
     },
     "output_type": "display_data"
    }
   ],
   "source": [
    "# Group the data by country and sum the values of BVIC\n",
    "df10_sum = df1.groupby('COUNTRY/AREA/TERRITORY')['BVIC'].sum()\n",
    "df10_sum\n",
    "\n",
    "# Convert pandas core series to pandas dataframe\n",
    "df10 = df10_sum.to_frame()\n",
    "\n",
    "# Drop rows where BVIC has a value of 0\n",
    "df10.drop(df10[df10['BVIC'] == 0].index, inplace=True)\n",
    "df10.plot(kind='bar');"
   ]
  },
  {
   "cell_type": "code",
   "execution_count": 235,
   "id": "b52f77b8",
   "metadata": {},
   "outputs": [
    {
     "data": {
      "image/png": "[encoded data removed]",
      "text/plain": [
       "<Figure size 432x288 with 1 Axes>"
      ]
     },
     "metadata": {
      "needs_background": "light"
     },
     "output_type": "display_data"
    }
   ],
   "source": [
    "# Group the data by country and sum the values of BYAM\n",
    "df11_sum = df1.groupby('COUNTRY/AREA/TERRITORY')['BYAM'].sum()\n",
    "df11_sum\n",
    "\n",
    "# Convert pandas core series to pandas dataframe\n",
    "df11 = df11_sum.to_frame()\n",
    "\n",
    "# Drop rows where BYAM has a value of 0\n",
    "df11.drop(df11[df11['BYAM'] == 0].index, inplace=True)\n",
    "df11.plot(kind='bar');"
   ]
  },
  {
   "cell_type": "code",
   "execution_count": 236,
   "id": "6a21a8b4",
   "metadata": {},
   "outputs": [
    {
     "data": {
      "image/png": "[encoded data removed]",
      "text/plain": [
       "<Figure size 432x288 with 1 Axes>"
      ]
     },
     "metadata": {
      "needs_background": "light"
     },
     "output_type": "display_data"
    }
   ],
   "source": [
    "# Group the data by country and sum the values of BNOTDETERMINED\n",
    "df12_sum = df1.groupby('COUNTRY/AREA/TERRITORY')['BNOTDETERMINED'].sum()\n",
    "df12_sum\n",
    "\n",
    "# Convert pandas core series to pandas dataframe\n",
    "df12 = df12_sum.to_frame()\n",
    "\n",
    "# Drop rows where BNOTDETERMINED has a value of 0\n",
    "df12.drop(df12[df12['BNOTDETERMINED'] == 0].index, inplace=True)\n",
    "df12.plot(kind='bar');"
   ]
  },
  {
   "cell_type": "code",
   "execution_count": 237,
   "id": "9cdcebbc",
   "metadata": {},
   "outputs": [
    {
     "data": {
      "image/png": "[encoded data removed]",
      "text/plain": [
       "<Figure size 432x288 with 1 Axes>"
      ]
     },
     "metadata": {
      "needs_background": "light"
     },
     "output_type": "display_data"
    }
   ],
   "source": [
    "# Group the data by year and sum the values of all influenza cases\n",
    "df13_sum = df1.groupby('ISO_YEAR')['INF_ALL'].sum()\n",
    "df13_sum\n",
    "\n",
    "# Convert pandas core series to pandas dataframe\n",
    "df13 = df13_sum.to_frame()\n",
    "\n",
    "# Drop rows where INF_ALL has a value of 0\n",
    "df13.drop(df13[df13['INF_ALL'] == 0].index, inplace=True)\n",
    "df13.plot(kind='bar');"
   ]
  }
 ],
 "metadata": {
  "kernelspec": {
   "display_name": "Python 3 (ipykernel)",
   "language": "python",
   "name": "python3"
  },
  "language_info": {
   "codemirror_mode": {
    "name": "ipython",
    "version": 3
   },
   "file_extension": ".py",
   "mimetype": "text/x-python",
   "name": "python",
   "nbconvert_exporter": "python",
   "pygments_lexer": "ipython3",
   "version": "3.10.8"
  }
 },
 "nbformat": 4,
 "nbformat_minor": 5
}
